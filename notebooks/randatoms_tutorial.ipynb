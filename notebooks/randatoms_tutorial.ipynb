{
  "nbformat": 4,
  "nbformat_minor": 0,
  "metadata": {
    "colab": {
      "provenance": [],
      "authorship_tag": "ABX9TyOwUO3yKdKYnIcA2/xG5A7F",
      "include_colab_link": true
    },
    "kernelspec": {
      "name": "python3",
      "display_name": "Python 3"
    },
    "language_info": {
      "name": "python"
    }
  },
  "cells": [
    {
      "cell_type": "markdown",
      "metadata": {
        "id": "view-in-github",
        "colab_type": "text"
      },
      "source": [
        "<a href=\"https://colab.research.google.com/github/kangmg/randatoms/blob/main/notebooks/randatoms_tutorial.ipynb\" target=\"_parent\"><img src=\"https://colab.research.google.com/assets/colab-badge.svg\" alt=\"Open In Colab\"/></a>"
      ]
    },
    {
      "cell_type": "code",
      "execution_count": null,
      "metadata": {
        "id": "Mt68_7FSf9Q2"
      },
      "outputs": [],
      "source": [
        "# !uv pip install https://github.com/kangmg/randatoms.git -q\n",
        "!uv pip install randatoms"
      ]
    },
    {
      "cell_type": "code",
      "source": [
        "# check available dataset files\n",
        "from randatoms import available_datasets\n",
        "\n",
        "available_datasets() # `data_dir=None` will seek the *.tar dataset file in the internal `/dataset` directory"
      ],
      "metadata": {
        "colab": {
          "base_uri": "https://localhost:8080/"
        },
        "id": "cJSqWDSfhbxh",
        "outputId": "8de2b9f4-54db-4d24-80ae-20ddb4f74629"
      },
      "execution_count": null,
      "outputs": [
        {
          "output_type": "stream",
          "name": "stdout",
          "text": [
            "\u001b[1;34mAvailable Datasets\u001b[0m\n",
            "Dataset found : /usr/local/lib/python3.11/dist-packages/randatoms/dataset\n",
            "=========================================================================================\n",
            "   Dataset Name    |  Structures  |       MW Range       |    Atoms Range     | Size (MB) \n",
            "-----------------------------------------------------------------------------------------\n",
            "     default       |     878      |   (169.9, 6723.3)    |     (10, 616)      |    9.23   \n",
            "=========================================================================================\n"
          ]
        }
      ]
    },
    {
      "cell_type": "code",
      "source": [],
      "metadata": {
        "id": "vJCokjNejTU_"
      },
      "execution_count": null,
      "outputs": []
    },
    {
      "cell_type": "markdown",
      "source": [
        "<font color=skyblue size=4>Basic Usage</font>"
      ],
      "metadata": {
        "id": "DJMCibRhkUrQ"
      }
    },
    {
      "cell_type": "code",
      "source": [
        "from randatoms import randomatoms\n",
        "from ase.visualize import view\n",
        "\n",
        "# load single atoms\n",
        "atoms = randomatoms()\n",
        "display(view(atoms, viewer='x3d'))\n",
        "\n",
        "# multiple atoms\n",
        "atoms_list = randomatoms(10)\n",
        "print('\\nNum of random atoms: ', len(atoms_list))"
      ],
      "metadata": {
        "id": "MlJAyXemkdjF"
      },
      "execution_count": null,
      "outputs": []
    },
    {
      "cell_type": "code",
      "source": [
        "# conditioned sampling\n",
        "crystal_with_Zn = randomatoms(is_periodic=True, has_metals=True, include_elements=['Zn'])\n",
        "\n",
        "view(crystal_with_Zn, viewer='x3d')"
      ],
      "metadata": {
        "id": "pRVTBGfHlUpr"
      },
      "execution_count": null,
      "outputs": []
    },
    {
      "cell_type": "markdown",
      "source": [
        "<font size=5 color=skyblue> Available Options</font>\n",
        "\n",
        "By using the below filtering options, you can obtain the ase.Atoms data that match your desired criteria.\n",
        "\n",
        "- `include_elements`: Structures that contain all specified elements\n",
        "- `exclude_elements`: Structures that exclude specified elements\n",
        "- `mw_range`: Molecular weight range\n",
        "- `max_atoms`, `min_atoms`: Range of the number of atoms\n",
        "- `is_periodic`: Whether the structure is periodic\n",
        "- `has_metals`: Whether the structure contains metals\n",
        "- `include_datasets`: Which dataset IDs to include"
      ],
      "metadata": {
        "id": "TeCFBlckl3V2"
      }
    },
    {
      "cell_type": "markdown",
      "source": [
        "<font color=skyblue size=4>Advanced Usage</font>"
      ],
      "metadata": {
        "id": "V4pIHSZlkbgC"
      }
    },
    {
      "cell_type": "code",
      "source": [
        "from randatoms import DataLoader\n",
        "\n",
        "# Initialize loader\n",
        "loader = DataLoader() # By default, filename='default'\n",
        "\n",
        "# filter query\n",
        "filter = dict(\n",
        "    include_elements=['H', 'C'],\n",
        "    has_metals=True,\n",
        "    is_periodic=True,\n",
        "    include_datasets=['peptide', 'omol25', 'rattled', 'odac', 'x23b'] # this indicates the original `dataset` identifier.\n",
        "    )\n",
        "\n",
        "# print filtered data statistics\n",
        "loader.print_statistics(**filter)"
      ],
      "metadata": {
        "colab": {
          "base_uri": "https://localhost:8080/"
        },
        "id": "Yxqw0FK1isDY",
        "outputId": "dc80afa9-c629-46ed-cdfd-c734a4e7793c"
      },
      "execution_count": null,
      "outputs": [
        {
          "output_type": "stream",
          "name": "stdout",
          "text": [
            "Loading dataset from TAR archive: /usr/local/lib/python3.11/dist-packages/randatoms/dataset/default.tar\n",
            "Loaded dataset with 878 structures\n",
            "\n",
            "\u001b[1;34mDataset Statistics\u001b[0m\n",
            "=======================================================\n",
            "* Total structures:                              121\n",
            "* Percentage of dataset:                      13.8 %\n",
            "* Molecular weight range:            (298.7, 6723.3)\n",
            "* Average atoms per structure:                 235.7\n",
            "* Num. of atoms range:                     (20, 616)\n",
            "* Periodic structures:                       100.0 %\n",
            "* Structures with metals:                    100.0 %\n",
            "=======================================================\n",
            "\n",
            "\u001b[1;34mElemental Coverage in Dataset\u001b[0m\n",
            "=======================================================\n",
            "H : 121 structures [==========] 100.0 %\n",
            "C : 121 structures [==========] 100.0 %\n",
            "O :  88 structures [=======   ] 72.7 %\n",
            "N :  80 structures [=======   ] 66.1 %\n",
            "Cu:  48 structures [====      ] 39.7 %\n",
            "Zn:  29 structures [==        ] 24.0 %\n",
            "Co:   9 structures [=         ]  7.4 %\n",
            "Ag:   8 structures [=         ]  6.6 %\n",
            "S :   8 structures [=         ]  6.6 %\n",
            "Cd:   7 structures [=         ]  5.8 %\n",
            "Ni:   5 structures [          ]  4.1 %\n",
            "Cl:   5 structures [          ]  4.1 %\n",
            "F :   4 structures [          ]  3.3 %\n",
            "Mn:   3 structures [          ]  2.5 %\n",
            "La:   3 structures [          ]  2.5 %\n",
            "Ca:   2 structures [          ]  1.7 %\n",
            "V :   2 structures [          ]  1.7 %\n",
            "Y :   2 structures [          ]  1.7 %\n",
            "Si:   2 structures [          ]  1.7 %\n",
            "Fe:   2 structures [          ]  1.7 %\n",
            "Zr:   2 structures [          ]  1.7 %\n",
            "Na:   1 structures [          ]  0.8 %\n",
            "Ti:   1 structures [          ]  0.8 %\n",
            "Nd:   1 structures [          ]  0.8 %\n",
            "P :   1 structures [          ]  0.8 %\n",
            "U :   1 structures [          ]  0.8 %\n",
            "Sc:   1 structures [          ]  0.8 %\n",
            "W :   1 structures [          ]  0.8 %\n",
            "Br:   1 structures [          ]  0.8 %\n",
            "Li:   1 structures [          ]  0.8 %\n",
            "B :   1 structures [          ]  0.8 %\n",
            "=======================================================\n"
          ]
        }
      ]
    },
    {
      "cell_type": "code",
      "source": [
        "# Get random structures\n",
        "atoms_list = loader.get_random_structures(5, **filter) # get 100 random structures\n",
        "\n",
        "atoms_list"
      ],
      "metadata": {
        "colab": {
          "base_uri": "https://localhost:8080/"
        },
        "id": "uCqr-OPQisFk",
        "outputId": "923026d8-2649-4ff3-c1c3-878a3ecbd8ac"
      },
      "execution_count": null,
      "outputs": [
        {
          "output_type": "stream",
          "name": "stderr",
          "text": [
            "Loading 5 structures: 100%|██████████| 3/3 [00:00<00:00, 288.22it/s]\n"
          ]
        },
        {
          "output_type": "execute_result",
          "data": {
            "text/plain": [
              "[Atoms(symbols='Co4H12C24S4N4O8', pbc=True, cell=[[8.74051284, 0.0, 0.0], [-2.004973886282855, 8.507446081380744, 0.0], [0.0, 0.0, 11.91452204]]),\n",
              " Atoms(symbols='C112H64Ag4N16', pbc=True, cell=[23.43921427, 23.43921427, 4.68182975]),\n",
              " Atoms(symbols='C176H128N16O32Zn8', pbc=True, cell=[[26.79537947, 0.0, 0.0], [-0.00011668762671117225, 26.795353019745928, 0.0], [1.4668375074739557e-06, -1.192814036006158e-05, 4.580032609984232]]),\n",
              " Atoms(symbols='C288H192Ag16N96', pbc=True, cell=[[22.66997141, 0.0, 0.0], [0.0, 15.20904952, 0.0], [-10.789463765267092, 0.0, 23.202966360505226]]),\n",
              " Atoms(symbols='C112H56Cu8O32', pbc=True, cell=[[18.3117523, 0.0, 0.0], [-5.41303812148311, 17.493877744884188, 0.0], [6.449397277436441, 8.746822502251275, 21.923851276327387]])]"
            ]
          },
          "metadata": {},
          "execution_count": 41
        }
      ]
    },
    {
      "cell_type": "code",
      "source": [
        "# this shows top 5 the metadata\n",
        "display(loader.df.head())"
      ],
      "metadata": {
        "colab": {
          "base_uri": "https://localhost:8080/",
          "height": 206
        },
        "id": "MmW3ktC3isJH",
        "outputId": "ebcb989e-093f-4c0d-a8fb-2d4749f76347"
      },
      "execution_count": null,
      "outputs": [
        {
          "output_type": "display_data",
          "data": {
            "text/plain": [
              "   index  dataset             key  molecular_weight      elements  n_atoms  \\\n",
              "0      0  peptide  peptide_000000           279.296  [C, H, N, O]       37   \n",
              "1      1  peptide  peptide_000001           261.281  [C, H, N, O]       34   \n",
              "2      2  peptide  peptide_000002           279.296  [C, H, N, O]       37   \n",
              "3      3  peptide  peptide_000003           279.296  [C, H, N, O]       37   \n",
              "4      4  peptide  peptide_000004           318.333  [C, H, N, O]       41   \n",
              "\n",
              "      formula  is_periodic  has_metals  \n",
              "0  C13H17N3O4        False       False  \n",
              "1  C13H15N3O3        False       False  \n",
              "2  C13H17N3O4        False       False  \n",
              "3  C13H17N3O4        False       False  \n",
              "4  C15H18N4O4        False       False  "
            ],
            "text/html": [
              "\n",
              "  <div id=\"df-9a749d61-8669-438e-bc4e-8eca2f31fc8f\" class=\"colab-df-container\">\n",
              "    <div>\n",
              "<style scoped>\n",
              "    .dataframe tbody tr th:only-of-type {\n",
              "        vertical-align: middle;\n",
              "    }\n",
              "\n",
              "    .dataframe tbody tr th {\n",
              "        vertical-align: top;\n",
              "    }\n",
              "\n",
              "    .dataframe thead th {\n",
              "        text-align: right;\n",
              "    }\n",
              "</style>\n",
              "<table border=\"1\" class=\"dataframe\">\n",
              "  <thead>\n",
              "    <tr style=\"text-align: right;\">\n",
              "      <th></th>\n",
              "      <th>index</th>\n",
              "      <th>dataset</th>\n",
              "      <th>key</th>\n",
              "      <th>molecular_weight</th>\n",
              "      <th>elements</th>\n",
              "      <th>n_atoms</th>\n",
              "      <th>formula</th>\n",
              "      <th>is_periodic</th>\n",
              "      <th>has_metals</th>\n",
              "    </tr>\n",
              "  </thead>\n",
              "  <tbody>\n",
              "    <tr>\n",
              "      <th>0</th>\n",
              "      <td>0</td>\n",
              "      <td>peptide</td>\n",
              "      <td>peptide_000000</td>\n",
              "      <td>279.296</td>\n",
              "      <td>[C, H, N, O]</td>\n",
              "      <td>37</td>\n",
              "      <td>C13H17N3O4</td>\n",
              "      <td>False</td>\n",
              "      <td>False</td>\n",
              "    </tr>\n",
              "    <tr>\n",
              "      <th>1</th>\n",
              "      <td>1</td>\n",
              "      <td>peptide</td>\n",
              "      <td>peptide_000001</td>\n",
              "      <td>261.281</td>\n",
              "      <td>[C, H, N, O]</td>\n",
              "      <td>34</td>\n",
              "      <td>C13H15N3O3</td>\n",
              "      <td>False</td>\n",
              "      <td>False</td>\n",
              "    </tr>\n",
              "    <tr>\n",
              "      <th>2</th>\n",
              "      <td>2</td>\n",
              "      <td>peptide</td>\n",
              "      <td>peptide_000002</td>\n",
              "      <td>279.296</td>\n",
              "      <td>[C, H, N, O]</td>\n",
              "      <td>37</td>\n",
              "      <td>C13H17N3O4</td>\n",
              "      <td>False</td>\n",
              "      <td>False</td>\n",
              "    </tr>\n",
              "    <tr>\n",
              "      <th>3</th>\n",
              "      <td>3</td>\n",
              "      <td>peptide</td>\n",
              "      <td>peptide_000003</td>\n",
              "      <td>279.296</td>\n",
              "      <td>[C, H, N, O]</td>\n",
              "      <td>37</td>\n",
              "      <td>C13H17N3O4</td>\n",
              "      <td>False</td>\n",
              "      <td>False</td>\n",
              "    </tr>\n",
              "    <tr>\n",
              "      <th>4</th>\n",
              "      <td>4</td>\n",
              "      <td>peptide</td>\n",
              "      <td>peptide_000004</td>\n",
              "      <td>318.333</td>\n",
              "      <td>[C, H, N, O]</td>\n",
              "      <td>41</td>\n",
              "      <td>C15H18N4O4</td>\n",
              "      <td>False</td>\n",
              "      <td>False</td>\n",
              "    </tr>\n",
              "  </tbody>\n",
              "</table>\n",
              "</div>\n",
              "    <div class=\"colab-df-buttons\">\n",
              "\n",
              "  <div class=\"colab-df-container\">\n",
              "    <button class=\"colab-df-convert\" onclick=\"convertToInteractive('df-9a749d61-8669-438e-bc4e-8eca2f31fc8f')\"\n",
              "            title=\"Convert this dataframe to an interactive table.\"\n",
              "            style=\"display:none;\">\n",
              "\n",
              "  <svg xmlns=\"http://www.w3.org/2000/svg\" height=\"24px\" viewBox=\"0 -960 960 960\">\n",
              "    <path d=\"M120-120v-720h720v720H120Zm60-500h600v-160H180v160Zm220 220h160v-160H400v160Zm0 220h160v-160H400v160ZM180-400h160v-160H180v160Zm440 0h160v-160H620v160ZM180-180h160v-160H180v160Zm440 0h160v-160H620v160Z\"/>\n",
              "  </svg>\n",
              "    </button>\n",
              "\n",
              "  <style>\n",
              "    .colab-df-container {\n",
              "      display:flex;\n",
              "      gap: 12px;\n",
              "    }\n",
              "\n",
              "    .colab-df-convert {\n",
              "      background-color: #E8F0FE;\n",
              "      border: none;\n",
              "      border-radius: 50%;\n",
              "      cursor: pointer;\n",
              "      display: none;\n",
              "      fill: #1967D2;\n",
              "      height: 32px;\n",
              "      padding: 0 0 0 0;\n",
              "      width: 32px;\n",
              "    }\n",
              "\n",
              "    .colab-df-convert:hover {\n",
              "      background-color: #E2EBFA;\n",
              "      box-shadow: 0px 1px 2px rgba(60, 64, 67, 0.3), 0px 1px 3px 1px rgba(60, 64, 67, 0.15);\n",
              "      fill: #174EA6;\n",
              "    }\n",
              "\n",
              "    .colab-df-buttons div {\n",
              "      margin-bottom: 4px;\n",
              "    }\n",
              "\n",
              "    [theme=dark] .colab-df-convert {\n",
              "      background-color: #3B4455;\n",
              "      fill: #D2E3FC;\n",
              "    }\n",
              "\n",
              "    [theme=dark] .colab-df-convert:hover {\n",
              "      background-color: #434B5C;\n",
              "      box-shadow: 0px 1px 3px 1px rgba(0, 0, 0, 0.15);\n",
              "      filter: drop-shadow(0px 1px 2px rgba(0, 0, 0, 0.3));\n",
              "      fill: #FFFFFF;\n",
              "    }\n",
              "  </style>\n",
              "\n",
              "    <script>\n",
              "      const buttonEl =\n",
              "        document.querySelector('#df-9a749d61-8669-438e-bc4e-8eca2f31fc8f button.colab-df-convert');\n",
              "      buttonEl.style.display =\n",
              "        google.colab.kernel.accessAllowed ? 'block' : 'none';\n",
              "\n",
              "      async function convertToInteractive(key) {\n",
              "        const element = document.querySelector('#df-9a749d61-8669-438e-bc4e-8eca2f31fc8f');\n",
              "        const dataTable =\n",
              "          await google.colab.kernel.invokeFunction('convertToInteractive',\n",
              "                                                    [key], {});\n",
              "        if (!dataTable) return;\n",
              "\n",
              "        const docLinkHtml = 'Like what you see? Visit the ' +\n",
              "          '<a target=\"_blank\" href=https://colab.research.google.com/notebooks/data_table.ipynb>data table notebook</a>'\n",
              "          + ' to learn more about interactive tables.';\n",
              "        element.innerHTML = '';\n",
              "        dataTable['output_type'] = 'display_data';\n",
              "        await google.colab.output.renderOutput(dataTable, element);\n",
              "        const docLink = document.createElement('div');\n",
              "        docLink.innerHTML = docLinkHtml;\n",
              "        element.appendChild(docLink);\n",
              "      }\n",
              "    </script>\n",
              "  </div>\n",
              "\n",
              "\n",
              "    <div id=\"df-d6e1a168-0177-4418-b683-edf8c571e0e1\">\n",
              "      <button class=\"colab-df-quickchart\" onclick=\"quickchart('df-d6e1a168-0177-4418-b683-edf8c571e0e1')\"\n",
              "                title=\"Suggest charts\"\n",
              "                style=\"display:none;\">\n",
              "\n",
              "<svg xmlns=\"http://www.w3.org/2000/svg\" height=\"24px\"viewBox=\"0 0 24 24\"\n",
              "     width=\"24px\">\n",
              "    <g>\n",
              "        <path d=\"M19 3H5c-1.1 0-2 .9-2 2v14c0 1.1.9 2 2 2h14c1.1 0 2-.9 2-2V5c0-1.1-.9-2-2-2zM9 17H7v-7h2v7zm4 0h-2V7h2v10zm4 0h-2v-4h2v4z\"/>\n",
              "    </g>\n",
              "</svg>\n",
              "      </button>\n",
              "\n",
              "<style>\n",
              "  .colab-df-quickchart {\n",
              "      --bg-color: #E8F0FE;\n",
              "      --fill-color: #1967D2;\n",
              "      --hover-bg-color: #E2EBFA;\n",
              "      --hover-fill-color: #174EA6;\n",
              "      --disabled-fill-color: #AAA;\n",
              "      --disabled-bg-color: #DDD;\n",
              "  }\n",
              "\n",
              "  [theme=dark] .colab-df-quickchart {\n",
              "      --bg-color: #3B4455;\n",
              "      --fill-color: #D2E3FC;\n",
              "      --hover-bg-color: #434B5C;\n",
              "      --hover-fill-color: #FFFFFF;\n",
              "      --disabled-bg-color: #3B4455;\n",
              "      --disabled-fill-color: #666;\n",
              "  }\n",
              "\n",
              "  .colab-df-quickchart {\n",
              "    background-color: var(--bg-color);\n",
              "    border: none;\n",
              "    border-radius: 50%;\n",
              "    cursor: pointer;\n",
              "    display: none;\n",
              "    fill: var(--fill-color);\n",
              "    height: 32px;\n",
              "    padding: 0;\n",
              "    width: 32px;\n",
              "  }\n",
              "\n",
              "  .colab-df-quickchart:hover {\n",
              "    background-color: var(--hover-bg-color);\n",
              "    box-shadow: 0 1px 2px rgba(60, 64, 67, 0.3), 0 1px 3px 1px rgba(60, 64, 67, 0.15);\n",
              "    fill: var(--button-hover-fill-color);\n",
              "  }\n",
              "\n",
              "  .colab-df-quickchart-complete:disabled,\n",
              "  .colab-df-quickchart-complete:disabled:hover {\n",
              "    background-color: var(--disabled-bg-color);\n",
              "    fill: var(--disabled-fill-color);\n",
              "    box-shadow: none;\n",
              "  }\n",
              "\n",
              "  .colab-df-spinner {\n",
              "    border: 2px solid var(--fill-color);\n",
              "    border-color: transparent;\n",
              "    border-bottom-color: var(--fill-color);\n",
              "    animation:\n",
              "      spin 1s steps(1) infinite;\n",
              "  }\n",
              "\n",
              "  @keyframes spin {\n",
              "    0% {\n",
              "      border-color: transparent;\n",
              "      border-bottom-color: var(--fill-color);\n",
              "      border-left-color: var(--fill-color);\n",
              "    }\n",
              "    20% {\n",
              "      border-color: transparent;\n",
              "      border-left-color: var(--fill-color);\n",
              "      border-top-color: var(--fill-color);\n",
              "    }\n",
              "    30% {\n",
              "      border-color: transparent;\n",
              "      border-left-color: var(--fill-color);\n",
              "      border-top-color: var(--fill-color);\n",
              "      border-right-color: var(--fill-color);\n",
              "    }\n",
              "    40% {\n",
              "      border-color: transparent;\n",
              "      border-right-color: var(--fill-color);\n",
              "      border-top-color: var(--fill-color);\n",
              "    }\n",
              "    60% {\n",
              "      border-color: transparent;\n",
              "      border-right-color: var(--fill-color);\n",
              "    }\n",
              "    80% {\n",
              "      border-color: transparent;\n",
              "      border-right-color: var(--fill-color);\n",
              "      border-bottom-color: var(--fill-color);\n",
              "    }\n",
              "    90% {\n",
              "      border-color: transparent;\n",
              "      border-bottom-color: var(--fill-color);\n",
              "    }\n",
              "  }\n",
              "</style>\n",
              "\n",
              "      <script>\n",
              "        async function quickchart(key) {\n",
              "          const quickchartButtonEl =\n",
              "            document.querySelector('#' + key + ' button');\n",
              "          quickchartButtonEl.disabled = true;  // To prevent multiple clicks.\n",
              "          quickchartButtonEl.classList.add('colab-df-spinner');\n",
              "          try {\n",
              "            const charts = await google.colab.kernel.invokeFunction(\n",
              "                'suggestCharts', [key], {});\n",
              "          } catch (error) {\n",
              "            console.error('Error during call to suggestCharts:', error);\n",
              "          }\n",
              "          quickchartButtonEl.classList.remove('colab-df-spinner');\n",
              "          quickchartButtonEl.classList.add('colab-df-quickchart-complete');\n",
              "        }\n",
              "        (() => {\n",
              "          let quickchartButtonEl =\n",
              "            document.querySelector('#df-d6e1a168-0177-4418-b683-edf8c571e0e1 button');\n",
              "          quickchartButtonEl.style.display =\n",
              "            google.colab.kernel.accessAllowed ? 'block' : 'none';\n",
              "        })();\n",
              "      </script>\n",
              "    </div>\n",
              "\n",
              "    </div>\n",
              "  </div>\n"
            ],
            "application/vnd.google.colaboratory.intrinsic+json": {
              "type": "dataframe",
              "summary": "{\n  \"name\": \"display(loader\",\n  \"rows\": 5,\n  \"fields\": [\n    {\n      \"column\": \"index\",\n      \"properties\": {\n        \"dtype\": \"number\",\n        \"std\": 1,\n        \"min\": 0,\n        \"max\": 4,\n        \"num_unique_values\": 5,\n        \"samples\": [\n          1,\n          4,\n          2\n        ],\n        \"semantic_type\": \"\",\n        \"description\": \"\"\n      }\n    },\n    {\n      \"column\": \"dataset\",\n      \"properties\": {\n        \"dtype\": \"category\",\n        \"num_unique_values\": 1,\n        \"samples\": [\n          \"peptide\"\n        ],\n        \"semantic_type\": \"\",\n        \"description\": \"\"\n      }\n    },\n    {\n      \"column\": \"key\",\n      \"properties\": {\n        \"dtype\": \"string\",\n        \"num_unique_values\": 5,\n        \"samples\": [\n          \"peptide_000001\"\n        ],\n        \"semantic_type\": \"\",\n        \"description\": \"\"\n      }\n    },\n    {\n      \"column\": \"molecular_weight\",\n      \"properties\": {\n        \"dtype\": \"number\",\n        \"std\": 20.976431400502815,\n        \"min\": 261.281,\n        \"max\": 318.333,\n        \"num_unique_values\": 3,\n        \"samples\": [\n          279.296\n        ],\n        \"semantic_type\": \"\",\n        \"description\": \"\"\n      }\n    },\n    {\n      \"column\": \"elements\",\n      \"properties\": {\n        \"dtype\": \"object\",\n        \"semantic_type\": \"\",\n        \"description\": \"\"\n      }\n    },\n    {\n      \"column\": \"n_atoms\",\n      \"properties\": {\n        \"dtype\": \"number\",\n        \"std\": 2,\n        \"min\": 34,\n        \"max\": 41,\n        \"num_unique_values\": 3,\n        \"samples\": [\n          37\n        ],\n        \"semantic_type\": \"\",\n        \"description\": \"\"\n      }\n    },\n    {\n      \"column\": \"formula\",\n      \"properties\": {\n        \"dtype\": \"string\",\n        \"num_unique_values\": 3,\n        \"samples\": [\n          \"C13H17N3O4\"\n        ],\n        \"semantic_type\": \"\",\n        \"description\": \"\"\n      }\n    },\n    {\n      \"column\": \"is_periodic\",\n      \"properties\": {\n        \"dtype\": \"boolean\",\n        \"num_unique_values\": 1,\n        \"samples\": [\n          false\n        ],\n        \"semantic_type\": \"\",\n        \"description\": \"\"\n      }\n    },\n    {\n      \"column\": \"has_metals\",\n      \"properties\": {\n        \"dtype\": \"boolean\",\n        \"num_unique_values\": 1,\n        \"samples\": [\n          false\n        ],\n        \"semantic_type\": \"\",\n        \"description\": \"\"\n      }\n    }\n  ]\n}"
            }
          },
          "metadata": {}
        }
      ]
    },
    {
      "cell_type": "code",
      "source": [
        "print('unique dataset id: ', loader.df['dataset'].unique())"
      ],
      "metadata": {
        "colab": {
          "base_uri": "https://localhost:8080/"
        },
        "id": "VEm_eqNXisK8",
        "outputId": "a617cda0-90fd-4b3d-d65a-8f6ea1f6e0b5"
      },
      "execution_count": null,
      "outputs": [
        {
          "output_type": "stream",
          "name": "stdout",
          "text": [
            "unique dataset id:  ['peptide' 'omol25' 'rattled' 'odac' 'x23b']\n"
          ]
        }
      ]
    },
    {
      "cell_type": "code",
      "source": [],
      "metadata": {
        "id": "VeIJfYcTisM4"
      },
      "execution_count": null,
      "outputs": []
    },
    {
      "cell_type": "code",
      "source": [],
      "metadata": {
        "id": "NP0X223VisTj"
      },
      "execution_count": null,
      "outputs": []
    },
    {
      "cell_type": "markdown",
      "source": [
        "<font color=skyblue size=5>Make your own dataset</font>"
      ],
      "metadata": {
        "id": "xULh2iLumcTd"
      }
    },
    {
      "cell_type": "code",
      "source": [
        "# dummy atoms (molecules + crystals)\n",
        "\n",
        "from ase.build import bulk, graphene_nanoribbon, molecule\n",
        "from randatoms.converter import ASEtoHDF5Converter\n",
        "\n",
        "# molecules\n",
        "molecule_list = [\n",
        "    molecule('H2O'),\n",
        "    molecule('CH4'),\n",
        "    molecule('C2H6'),\n",
        "    molecule('C6H6')\n",
        "]\n",
        "\n",
        "# crystals\n",
        "nacl = bulk(\"NaCl\", \"rocksalt\", a=5.66).repeat((2, 2, 2))\n",
        "graphene = graphene_nanoribbon(n=3, m=3, type=\"zigzag\", C_C=1.42, vacuum=1)\n",
        "graphene.set_pbc([True, False, True])\n",
        "diamond = bulk(\"C\", \"diamond\", a=3.567).repeat((3, 3, 3))\n",
        "silicon = bulk(\"Si\", \"diamond\", a=5.431).repeat((3, 3, 3))\n",
        "mgo = bulk(\"MgO\", \"rocksalt\", a=4.21).repeat((3, 3, 3))\n",
        "cu = bulk(\"Cu\", \"fcc\", a=3.61).repeat((3, 3, 3))\n",
        "zns = bulk(\"ZnS\", \"zincblende\", a=5.41).repeat((2, 2, 2))\n",
        "\n",
        "crystal_list = [\n",
        "    nacl,\n",
        "    graphene,\n",
        "    diamond,\n",
        "    silicon,\n",
        "    mgo,\n",
        "    cu,\n",
        "    zns,\n",
        "]\n",
        "\n",
        "for atoms in crystal_list:\n",
        "    atoms.center()\n",
        "\n",
        "converter = ASEtoHDF5Converter(n_workers=2)\n",
        "\n",
        "print('='*50, '\\nConvert molecule list to *.tar format\\n', \"=\"*50, sep='')\n",
        "converter.convert_atoms_list(molecule_list, filename='molecules', data_dir='./', dataset_name='molecules_from_ase')\n",
        "\n",
        "print('='*50, '\\nConvert crystal list to *.tar format\\n', \"=\"*50, sep='')\n",
        "converter.convert_atoms_list(crystal_list, filename='crystals', data_dir='./', dataset_name='crystals_from_ase')"
      ],
      "metadata": {
        "colab": {
          "base_uri": "https://localhost:8080/"
        },
        "id": "d9zGhujPQU2v",
        "outputId": "6fe9ded4-883f-4ae9-96aa-3e231b915855"
      },
      "execution_count": null,
      "outputs": [
        {
          "output_type": "stream",
          "name": "stdout",
          "text": [
            "==================================================\n",
            "Convert molecule list to *.tar format\n",
            "==================================================\n",
            "Converting 4 structures...\n"
          ]
        },
        {
          "output_type": "stream",
          "name": "stderr",
          "text": [
            "Extracting metadata: 100%|██████████| 4/4 [00:00<00:00, 2946.47it/s]\n",
            "Writing HDF5: 100%|██████████| 1/1 [00:00<00:00, 156.54it/s]\n"
          ]
        },
        {
          "output_type": "stream",
          "name": "stdout",
          "text": [
            "Saving metadata...\n",
            "Building element index...\n"
          ]
        },
        {
          "output_type": "stream",
          "name": "stderr",
          "text": [
            "Processing elements: 100%|██████████| 4/4 [00:00<00:00, 4043.68it/s]\n"
          ]
        },
        {
          "output_type": "stream",
          "name": "stdout",
          "text": [
            "Creating TAR archive at ./molecules.tar...\n",
            "\u001b[1;34m\n",
            "Conversion complete! File saved as molecules.tar\u001b[0m\n",
            "==================================================\n",
            "Convert crystal list to *.tar format\n",
            "==================================================\n",
            "Converting 7 structures...\n"
          ]
        },
        {
          "output_type": "stream",
          "name": "stderr",
          "text": [
            "Extracting metadata: 100%|██████████| 7/7 [00:00<00:00, 7265.56it/s]\n",
            "Writing HDF5: 100%|██████████| 1/1 [00:00<00:00, 77.14it/s]\n"
          ]
        },
        {
          "output_type": "stream",
          "name": "stdout",
          "text": [
            "Saving metadata...\n",
            "Building element index...\n"
          ]
        },
        {
          "output_type": "stream",
          "name": "stderr",
          "text": [
            "Processing elements: 100%|██████████| 7/7 [00:00<00:00, 37932.98it/s]"
          ]
        },
        {
          "output_type": "stream",
          "name": "stdout",
          "text": [
            "Creating TAR archive at ./crystals.tar...\n",
            "\u001b[1;34m\n",
            "Conversion complete! File saved as crystals.tar\u001b[0m\n"
          ]
        },
        {
          "output_type": "stream",
          "name": "stderr",
          "text": [
            "\n"
          ]
        }
      ]
    },
    {
      "cell_type": "code",
      "source": [
        "from randatoms import available_datasets\n",
        "\n",
        "# check available dataset files(./*.tar)\n",
        "available_datasets('./')"
      ],
      "metadata": {
        "colab": {
          "base_uri": "https://localhost:8080/"
        },
        "id": "k_8gOszsmn6O",
        "outputId": "99e88967-7f48-4cc0-e141-0797d878ff43"
      },
      "execution_count": null,
      "outputs": [
        {
          "output_type": "stream",
          "name": "stdout",
          "text": [
            "\u001b[1;34mAvailable Datasets\u001b[0m\n",
            "Dataset found : /content\n",
            "=========================================================================================\n",
            "   Dataset Name    |  Structures  |       MW Range       |    Atoms Range     | Size (MB) \n",
            "-----------------------------------------------------------------------------------------\n",
            "     crystals      |      7       |   (216.2, 1715.7)    |      (16, 54)      |    0.09   \n",
            "  merged_dataset   |      11      |    (16.0, 1715.7)    |      (3, 54)       |    0.11   \n",
            "    molecules      |      4       |     (16.0, 78.1)     |      (3, 12)       |    0.04   \n",
            "=========================================================================================\n"
          ]
        }
      ]
    },
    {
      "cell_type": "code",
      "source": [
        "from randatoms.merger import DatasetMerger\n",
        "\n",
        "merger = DatasetMerger(merge_name_list=['molecules', 'crystals'], output_name='merged_dataset', data_dir='./') # `data_dir=None` will save {filename}.tar file into internal directory\n",
        "\n",
        "# merge preview\n",
        "merger.merge_preview()\n",
        "\n",
        "# merge dataset\n",
        "merger.merge()"
      ],
      "metadata": {
        "colab": {
          "base_uri": "https://localhost:8080/"
        },
        "id": "0aWgesHOQVNO",
        "outputId": "80dcf17e-8e7e-4b46-9c10-5bec56f1aa1b"
      },
      "execution_count": null,
      "outputs": [
        {
          "output_type": "stream",
          "name": "stdout",
          "text": [
            "\n",
            "\u001b[1;34mMerged Dataset Preview\u001b[0m\n",
            "=======================================================\n",
            "Datasets to merge: ['molecules', 'crystals']\n",
            "Total structures: 11\n",
            "Molecular weight range: (16.0, 1715.7)\n",
            "Num. of atoms range: (3, 54)\n",
            "=======================================================\n",
            "\n",
            "\u001b[1;34mCombined Elemental Composition\u001b[0m\n",
            "=======================================================\n",
            "C : 5 structures [=====     ] 45.5%\n",
            "H : 4 structures [====      ] 36.4%\n",
            "O : 2 structures [==        ] 18.2%\n",
            "Cl: 1 structures [=         ]  9.1%\n",
            "Na: 1 structures [=         ]  9.1%\n",
            "Si: 1 structures [=         ]  9.1%\n",
            "Mg: 1 structures [=         ]  9.1%\n",
            "Cu: 1 structures [=         ]  9.1%\n",
            "Zn: 1 structures [=         ]  9.1%\n",
            "S : 1 structures [=         ]  9.1%\n",
            "=======================================================\n",
            "\n",
            "\u001b[1;32mDatasets to merge\u001b[0m\n",
            "=======================================================\n",
            "  Dataset: \u001b[1mmolecules\u001b[0m\n",
            "  - Structures: 4\n",
            "  - Molecular weight range: (16.0, 78.1)\n",
            "  - Num. of atoms range: (3, 12)\n",
            "-------------------------------------------------------\n",
            "  Dataset: \u001b[1mcrystals\u001b[0m\n",
            "  - Structures: 7\n",
            "  - Molecular weight range: (216.2, 1715.7)\n",
            "  - Num. of atoms range: (16, 54)\n",
            "=======================================================\n",
            "Counting structures...\n",
            "Merging 11 structures from 2 datasets...\n"
          ]
        },
        {
          "output_type": "stream",
          "name": "stderr",
          "text": [
            "Merging structures: 100%|██████████| 11/11 [00:00<00:00, 585.13it/s]\n"
          ]
        },
        {
          "output_type": "stream",
          "name": "stdout",
          "text": [
            "Building merged element index...\n"
          ]
        },
        {
          "output_type": "stream",
          "name": "stderr",
          "text": [
            "Building index: 100%|██████████| 11/11 [00:00<00:00, 43119.01it/s]"
          ]
        },
        {
          "output_type": "stream",
          "name": "stdout",
          "text": [
            "Calculating merged statistics...\n",
            "Saving merged data to TAR archive...\n",
            "\u001b[1;34mMerge complete! Output saved as merged_dataset.tar\u001b[0m\n"
          ]
        },
        {
          "output_type": "stream",
          "name": "stderr",
          "text": [
            "\n"
          ]
        }
      ]
    },
    {
      "cell_type": "code",
      "source": [
        "# merged_dataset = crystals + molecules\n",
        "available_datasets('./')"
      ],
      "metadata": {
        "colab": {
          "base_uri": "https://localhost:8080/"
        },
        "id": "hYleIPRNm9Wi",
        "outputId": "dc58ce17-8dd2-4f19-dbca-b3f2f3b1d5f7"
      },
      "execution_count": null,
      "outputs": [
        {
          "output_type": "stream",
          "name": "stdout",
          "text": [
            "\u001b[1;34mAvailable Datasets\u001b[0m\n",
            "Dataset found : /content\n",
            "=========================================================================================\n",
            "   Dataset Name    |  Structures  |       MW Range       |    Atoms Range     | Size (MB) \n",
            "-----------------------------------------------------------------------------------------\n",
            "     crystals      |      7       |   (216.2, 1715.7)    |      (16, 54)      |    0.09   \n",
            "  merged_dataset   |      11      |    (16.0, 1715.7)    |      (3, 54)       |    0.11   \n",
            "    molecules      |      4       |     (16.0, 78.1)     |      (3, 12)       |    0.04   \n",
            "=========================================================================================\n"
          ]
        }
      ]
    },
    {
      "cell_type": "code",
      "source": [
        "\n",
        "from randatoms import randomatoms\n",
        "\n",
        "atoms_list = randomatoms(3, filename='merged_dataset', data_dir='./', include_datasets=['molecules_from_ase']) # ['crystals_from_ase', 'molecules_from_ase']\n",
        "\n",
        "atoms_list"
      ],
      "metadata": {
        "colab": {
          "base_uri": "https://localhost:8080/"
        },
        "id": "d6q5-oOqQXl-",
        "outputId": "243d0bce-cf5c-49b7-f1ef-520361c74638"
      },
      "execution_count": null,
      "outputs": [
        {
          "output_type": "stream",
          "name": "stderr",
          "text": [
            "Loading 3 structures: 100%|██████████| 3/3 [00:00<00:00, 424.62it/s]\n"
          ]
        },
        {
          "output_type": "execute_result",
          "data": {
            "text/plain": [
              "[Atoms(symbols='C6H6', pbc=False),\n",
              " Atoms(symbols='CH4', pbc=False),\n",
              " Atoms(symbols='C2H6', pbc=False)]"
            ]
          },
          "metadata": {},
          "execution_count": 59
        }
      ]
    },
    {
      "cell_type": "code",
      "source": [
        "from randatoms import DataLoader\n",
        "\n",
        "loader = DataLoader(filename='merged_dataset', data_dir='./')\n",
        "\n",
        "loader.df"
      ],
      "metadata": {
        "colab": {
          "base_uri": "https://localhost:8080/",
          "height": 431
        },
        "id": "QkLFSZAgQkZs",
        "outputId": "c70a7f5e-d579-49a1-cb1b-81c3512d850b"
      },
      "execution_count": null,
      "outputs": [
        {
          "output_type": "stream",
          "name": "stdout",
          "text": [
            "Loading dataset from TAR archive: ./merged_dataset.tar\n",
            "Loaded dataset with 11 structures\n"
          ]
        },
        {
          "output_type": "execute_result",
          "data": {
            "text/plain": [
              "    index             dataset                        key  molecular_weight  \\\n",
              "0       0  molecules_from_ase  molecules_from_ase_000000         18.015000   \n",
              "1       1  molecules_from_ase  molecules_from_ase_000001         16.043000   \n",
              "2       2  molecules_from_ase  molecules_from_ase_000002         30.070000   \n",
              "3       3  molecules_from_ase  molecules_from_ase_000003         78.114000   \n",
              "4       4   crystals_from_ase   crystals_from_ase_000000        467.518154   \n",
              "5       5   crystals_from_ase   crystals_from_ase_000001        216.198000   \n",
              "6       6   crystals_from_ase   crystals_from_ase_000002        648.594000   \n",
              "7       7   crystals_from_ase   crystals_from_ase_000003       1516.590000   \n",
              "8       8   crystals_from_ase   crystals_from_ase_000004       1088.208000   \n",
              "9       9   crystals_from_ase   crystals_from_ase_000005       1715.742000   \n",
              "10     10   crystals_from_ase   crystals_from_ase_000006        779.520000   \n",
              "\n",
              "    elements  n_atoms  formula  is_periodic  has_metals  \n",
              "0     [H, O]        3      H2O        False       False  \n",
              "1     [C, H]        5      CH4        False       False  \n",
              "2     [C, H]        8     C2H6        False       False  \n",
              "3     [C, H]       12     C6H6        False       False  \n",
              "4   [Cl, Na]       16   Cl8Na8         True        True  \n",
              "5        [C]       18      C18         True       False  \n",
              "6        [C]       54      C54         True       False  \n",
              "7       [Si]       54     Si54         True       False  \n",
              "8    [Mg, O]       54  Mg27O27         True        True  \n",
              "9       [Cu]       27     Cu27         True        True  \n",
              "10   [S, Zn]       16    S8Zn8         True        True  "
            ],
            "text/html": [
              "\n",
              "  <div id=\"df-93668aea-f23a-427d-8b91-286b38d2eb0d\" class=\"colab-df-container\">\n",
              "    <div>\n",
              "<style scoped>\n",
              "    .dataframe tbody tr th:only-of-type {\n",
              "        vertical-align: middle;\n",
              "    }\n",
              "\n",
              "    .dataframe tbody tr th {\n",
              "        vertical-align: top;\n",
              "    }\n",
              "\n",
              "    .dataframe thead th {\n",
              "        text-align: right;\n",
              "    }\n",
              "</style>\n",
              "<table border=\"1\" class=\"dataframe\">\n",
              "  <thead>\n",
              "    <tr style=\"text-align: right;\">\n",
              "      <th></th>\n",
              "      <th>index</th>\n",
              "      <th>dataset</th>\n",
              "      <th>key</th>\n",
              "      <th>molecular_weight</th>\n",
              "      <th>elements</th>\n",
              "      <th>n_atoms</th>\n",
              "      <th>formula</th>\n",
              "      <th>is_periodic</th>\n",
              "      <th>has_metals</th>\n",
              "    </tr>\n",
              "  </thead>\n",
              "  <tbody>\n",
              "    <tr>\n",
              "      <th>0</th>\n",
              "      <td>0</td>\n",
              "      <td>molecules_from_ase</td>\n",
              "      <td>molecules_from_ase_000000</td>\n",
              "      <td>18.015000</td>\n",
              "      <td>[H, O]</td>\n",
              "      <td>3</td>\n",
              "      <td>H2O</td>\n",
              "      <td>False</td>\n",
              "      <td>False</td>\n",
              "    </tr>\n",
              "    <tr>\n",
              "      <th>1</th>\n",
              "      <td>1</td>\n",
              "      <td>molecules_from_ase</td>\n",
              "      <td>molecules_from_ase_000001</td>\n",
              "      <td>16.043000</td>\n",
              "      <td>[C, H]</td>\n",
              "      <td>5</td>\n",
              "      <td>CH4</td>\n",
              "      <td>False</td>\n",
              "      <td>False</td>\n",
              "    </tr>\n",
              "    <tr>\n",
              "      <th>2</th>\n",
              "      <td>2</td>\n",
              "      <td>molecules_from_ase</td>\n",
              "      <td>molecules_from_ase_000002</td>\n",
              "      <td>30.070000</td>\n",
              "      <td>[C, H]</td>\n",
              "      <td>8</td>\n",
              "      <td>C2H6</td>\n",
              "      <td>False</td>\n",
              "      <td>False</td>\n",
              "    </tr>\n",
              "    <tr>\n",
              "      <th>3</th>\n",
              "      <td>3</td>\n",
              "      <td>molecules_from_ase</td>\n",
              "      <td>molecules_from_ase_000003</td>\n",
              "      <td>78.114000</td>\n",
              "      <td>[C, H]</td>\n",
              "      <td>12</td>\n",
              "      <td>C6H6</td>\n",
              "      <td>False</td>\n",
              "      <td>False</td>\n",
              "    </tr>\n",
              "    <tr>\n",
              "      <th>4</th>\n",
              "      <td>4</td>\n",
              "      <td>crystals_from_ase</td>\n",
              "      <td>crystals_from_ase_000000</td>\n",
              "      <td>467.518154</td>\n",
              "      <td>[Cl, Na]</td>\n",
              "      <td>16</td>\n",
              "      <td>Cl8Na8</td>\n",
              "      <td>True</td>\n",
              "      <td>True</td>\n",
              "    </tr>\n",
              "    <tr>\n",
              "      <th>5</th>\n",
              "      <td>5</td>\n",
              "      <td>crystals_from_ase</td>\n",
              "      <td>crystals_from_ase_000001</td>\n",
              "      <td>216.198000</td>\n",
              "      <td>[C]</td>\n",
              "      <td>18</td>\n",
              "      <td>C18</td>\n",
              "      <td>True</td>\n",
              "      <td>False</td>\n",
              "    </tr>\n",
              "    <tr>\n",
              "      <th>6</th>\n",
              "      <td>6</td>\n",
              "      <td>crystals_from_ase</td>\n",
              "      <td>crystals_from_ase_000002</td>\n",
              "      <td>648.594000</td>\n",
              "      <td>[C]</td>\n",
              "      <td>54</td>\n",
              "      <td>C54</td>\n",
              "      <td>True</td>\n",
              "      <td>False</td>\n",
              "    </tr>\n",
              "    <tr>\n",
              "      <th>7</th>\n",
              "      <td>7</td>\n",
              "      <td>crystals_from_ase</td>\n",
              "      <td>crystals_from_ase_000003</td>\n",
              "      <td>1516.590000</td>\n",
              "      <td>[Si]</td>\n",
              "      <td>54</td>\n",
              "      <td>Si54</td>\n",
              "      <td>True</td>\n",
              "      <td>False</td>\n",
              "    </tr>\n",
              "    <tr>\n",
              "      <th>8</th>\n",
              "      <td>8</td>\n",
              "      <td>crystals_from_ase</td>\n",
              "      <td>crystals_from_ase_000004</td>\n",
              "      <td>1088.208000</td>\n",
              "      <td>[Mg, O]</td>\n",
              "      <td>54</td>\n",
              "      <td>Mg27O27</td>\n",
              "      <td>True</td>\n",
              "      <td>True</td>\n",
              "    </tr>\n",
              "    <tr>\n",
              "      <th>9</th>\n",
              "      <td>9</td>\n",
              "      <td>crystals_from_ase</td>\n",
              "      <td>crystals_from_ase_000005</td>\n",
              "      <td>1715.742000</td>\n",
              "      <td>[Cu]</td>\n",
              "      <td>27</td>\n",
              "      <td>Cu27</td>\n",
              "      <td>True</td>\n",
              "      <td>True</td>\n",
              "    </tr>\n",
              "    <tr>\n",
              "      <th>10</th>\n",
              "      <td>10</td>\n",
              "      <td>crystals_from_ase</td>\n",
              "      <td>crystals_from_ase_000006</td>\n",
              "      <td>779.520000</td>\n",
              "      <td>[S, Zn]</td>\n",
              "      <td>16</td>\n",
              "      <td>S8Zn8</td>\n",
              "      <td>True</td>\n",
              "      <td>True</td>\n",
              "    </tr>\n",
              "  </tbody>\n",
              "</table>\n",
              "</div>\n",
              "    <div class=\"colab-df-buttons\">\n",
              "\n",
              "  <div class=\"colab-df-container\">\n",
              "    <button class=\"colab-df-convert\" onclick=\"convertToInteractive('df-93668aea-f23a-427d-8b91-286b38d2eb0d')\"\n",
              "            title=\"Convert this dataframe to an interactive table.\"\n",
              "            style=\"display:none;\">\n",
              "\n",
              "  <svg xmlns=\"http://www.w3.org/2000/svg\" height=\"24px\" viewBox=\"0 -960 960 960\">\n",
              "    <path d=\"M120-120v-720h720v720H120Zm60-500h600v-160H180v160Zm220 220h160v-160H400v160Zm0 220h160v-160H400v160ZM180-400h160v-160H180v160Zm440 0h160v-160H620v160ZM180-180h160v-160H180v160Zm440 0h160v-160H620v160Z\"/>\n",
              "  </svg>\n",
              "    </button>\n",
              "\n",
              "  <style>\n",
              "    .colab-df-container {\n",
              "      display:flex;\n",
              "      gap: 12px;\n",
              "    }\n",
              "\n",
              "    .colab-df-convert {\n",
              "      background-color: #E8F0FE;\n",
              "      border: none;\n",
              "      border-radius: 50%;\n",
              "      cursor: pointer;\n",
              "      display: none;\n",
              "      fill: #1967D2;\n",
              "      height: 32px;\n",
              "      padding: 0 0 0 0;\n",
              "      width: 32px;\n",
              "    }\n",
              "\n",
              "    .colab-df-convert:hover {\n",
              "      background-color: #E2EBFA;\n",
              "      box-shadow: 0px 1px 2px rgba(60, 64, 67, 0.3), 0px 1px 3px 1px rgba(60, 64, 67, 0.15);\n",
              "      fill: #174EA6;\n",
              "    }\n",
              "\n",
              "    .colab-df-buttons div {\n",
              "      margin-bottom: 4px;\n",
              "    }\n",
              "\n",
              "    [theme=dark] .colab-df-convert {\n",
              "      background-color: #3B4455;\n",
              "      fill: #D2E3FC;\n",
              "    }\n",
              "\n",
              "    [theme=dark] .colab-df-convert:hover {\n",
              "      background-color: #434B5C;\n",
              "      box-shadow: 0px 1px 3px 1px rgba(0, 0, 0, 0.15);\n",
              "      filter: drop-shadow(0px 1px 2px rgba(0, 0, 0, 0.3));\n",
              "      fill: #FFFFFF;\n",
              "    }\n",
              "  </style>\n",
              "\n",
              "    <script>\n",
              "      const buttonEl =\n",
              "        document.querySelector('#df-93668aea-f23a-427d-8b91-286b38d2eb0d button.colab-df-convert');\n",
              "      buttonEl.style.display =\n",
              "        google.colab.kernel.accessAllowed ? 'block' : 'none';\n",
              "\n",
              "      async function convertToInteractive(key) {\n",
              "        const element = document.querySelector('#df-93668aea-f23a-427d-8b91-286b38d2eb0d');\n",
              "        const dataTable =\n",
              "          await google.colab.kernel.invokeFunction('convertToInteractive',\n",
              "                                                    [key], {});\n",
              "        if (!dataTable) return;\n",
              "\n",
              "        const docLinkHtml = 'Like what you see? Visit the ' +\n",
              "          '<a target=\"_blank\" href=https://colab.research.google.com/notebooks/data_table.ipynb>data table notebook</a>'\n",
              "          + ' to learn more about interactive tables.';\n",
              "        element.innerHTML = '';\n",
              "        dataTable['output_type'] = 'display_data';\n",
              "        await google.colab.output.renderOutput(dataTable, element);\n",
              "        const docLink = document.createElement('div');\n",
              "        docLink.innerHTML = docLinkHtml;\n",
              "        element.appendChild(docLink);\n",
              "      }\n",
              "    </script>\n",
              "  </div>\n",
              "\n",
              "\n",
              "    <div id=\"df-00fa7483-37fb-420a-85a9-1853a2a82457\">\n",
              "      <button class=\"colab-df-quickchart\" onclick=\"quickchart('df-00fa7483-37fb-420a-85a9-1853a2a82457')\"\n",
              "                title=\"Suggest charts\"\n",
              "                style=\"display:none;\">\n",
              "\n",
              "<svg xmlns=\"http://www.w3.org/2000/svg\" height=\"24px\"viewBox=\"0 0 24 24\"\n",
              "     width=\"24px\">\n",
              "    <g>\n",
              "        <path d=\"M19 3H5c-1.1 0-2 .9-2 2v14c0 1.1.9 2 2 2h14c1.1 0 2-.9 2-2V5c0-1.1-.9-2-2-2zM9 17H7v-7h2v7zm4 0h-2V7h2v10zm4 0h-2v-4h2v4z\"/>\n",
              "    </g>\n",
              "</svg>\n",
              "      </button>\n",
              "\n",
              "<style>\n",
              "  .colab-df-quickchart {\n",
              "      --bg-color: #E8F0FE;\n",
              "      --fill-color: #1967D2;\n",
              "      --hover-bg-color: #E2EBFA;\n",
              "      --hover-fill-color: #174EA6;\n",
              "      --disabled-fill-color: #AAA;\n",
              "      --disabled-bg-color: #DDD;\n",
              "  }\n",
              "\n",
              "  [theme=dark] .colab-df-quickchart {\n",
              "      --bg-color: #3B4455;\n",
              "      --fill-color: #D2E3FC;\n",
              "      --hover-bg-color: #434B5C;\n",
              "      --hover-fill-color: #FFFFFF;\n",
              "      --disabled-bg-color: #3B4455;\n",
              "      --disabled-fill-color: #666;\n",
              "  }\n",
              "\n",
              "  .colab-df-quickchart {\n",
              "    background-color: var(--bg-color);\n",
              "    border: none;\n",
              "    border-radius: 50%;\n",
              "    cursor: pointer;\n",
              "    display: none;\n",
              "    fill: var(--fill-color);\n",
              "    height: 32px;\n",
              "    padding: 0;\n",
              "    width: 32px;\n",
              "  }\n",
              "\n",
              "  .colab-df-quickchart:hover {\n",
              "    background-color: var(--hover-bg-color);\n",
              "    box-shadow: 0 1px 2px rgba(60, 64, 67, 0.3), 0 1px 3px 1px rgba(60, 64, 67, 0.15);\n",
              "    fill: var(--button-hover-fill-color);\n",
              "  }\n",
              "\n",
              "  .colab-df-quickchart-complete:disabled,\n",
              "  .colab-df-quickchart-complete:disabled:hover {\n",
              "    background-color: var(--disabled-bg-color);\n",
              "    fill: var(--disabled-fill-color);\n",
              "    box-shadow: none;\n",
              "  }\n",
              "\n",
              "  .colab-df-spinner {\n",
              "    border: 2px solid var(--fill-color);\n",
              "    border-color: transparent;\n",
              "    border-bottom-color: var(--fill-color);\n",
              "    animation:\n",
              "      spin 1s steps(1) infinite;\n",
              "  }\n",
              "\n",
              "  @keyframes spin {\n",
              "    0% {\n",
              "      border-color: transparent;\n",
              "      border-bottom-color: var(--fill-color);\n",
              "      border-left-color: var(--fill-color);\n",
              "    }\n",
              "    20% {\n",
              "      border-color: transparent;\n",
              "      border-left-color: var(--fill-color);\n",
              "      border-top-color: var(--fill-color);\n",
              "    }\n",
              "    30% {\n",
              "      border-color: transparent;\n",
              "      border-left-color: var(--fill-color);\n",
              "      border-top-color: var(--fill-color);\n",
              "      border-right-color: var(--fill-color);\n",
              "    }\n",
              "    40% {\n",
              "      border-color: transparent;\n",
              "      border-right-color: var(--fill-color);\n",
              "      border-top-color: var(--fill-color);\n",
              "    }\n",
              "    60% {\n",
              "      border-color: transparent;\n",
              "      border-right-color: var(--fill-color);\n",
              "    }\n",
              "    80% {\n",
              "      border-color: transparent;\n",
              "      border-right-color: var(--fill-color);\n",
              "      border-bottom-color: var(--fill-color);\n",
              "    }\n",
              "    90% {\n",
              "      border-color: transparent;\n",
              "      border-bottom-color: var(--fill-color);\n",
              "    }\n",
              "  }\n",
              "</style>\n",
              "\n",
              "      <script>\n",
              "        async function quickchart(key) {\n",
              "          const quickchartButtonEl =\n",
              "            document.querySelector('#' + key + ' button');\n",
              "          quickchartButtonEl.disabled = true;  // To prevent multiple clicks.\n",
              "          quickchartButtonEl.classList.add('colab-df-spinner');\n",
              "          try {\n",
              "            const charts = await google.colab.kernel.invokeFunction(\n",
              "                'suggestCharts', [key], {});\n",
              "          } catch (error) {\n",
              "            console.error('Error during call to suggestCharts:', error);\n",
              "          }\n",
              "          quickchartButtonEl.classList.remove('colab-df-spinner');\n",
              "          quickchartButtonEl.classList.add('colab-df-quickchart-complete');\n",
              "        }\n",
              "        (() => {\n",
              "          let quickchartButtonEl =\n",
              "            document.querySelector('#df-00fa7483-37fb-420a-85a9-1853a2a82457 button');\n",
              "          quickchartButtonEl.style.display =\n",
              "            google.colab.kernel.accessAllowed ? 'block' : 'none';\n",
              "        })();\n",
              "      </script>\n",
              "    </div>\n",
              "\n",
              "    </div>\n",
              "  </div>\n"
            ],
            "application/vnd.google.colaboratory.intrinsic+json": {
              "type": "dataframe",
              "summary": "{\n  \"name\": \"loader\",\n  \"rows\": 11,\n  \"fields\": [\n    {\n      \"column\": \"index\",\n      \"properties\": {\n        \"dtype\": \"number\",\n        \"std\": 3,\n        \"min\": 0,\n        \"max\": 10,\n        \"num_unique_values\": 11,\n        \"samples\": [\n          5,\n          0,\n          9\n        ],\n        \"semantic_type\": \"\",\n        \"description\": \"\"\n      }\n    },\n    {\n      \"column\": \"dataset\",\n      \"properties\": {\n        \"dtype\": \"category\",\n        \"num_unique_values\": 2,\n        \"samples\": [\n          \"crystals_from_ase\",\n          \"molecules_from_ase\"\n        ],\n        \"semantic_type\": \"\",\n        \"description\": \"\"\n      }\n    },\n    {\n      \"column\": \"key\",\n      \"properties\": {\n        \"dtype\": \"string\",\n        \"num_unique_values\": 11,\n        \"samples\": [\n          \"crystals_from_ase_000001\",\n          \"molecules_from_ase_000000\"\n        ],\n        \"semantic_type\": \"\",\n        \"description\": \"\"\n      }\n    },\n    {\n      \"column\": \"molecular_weight\",\n      \"properties\": {\n        \"dtype\": \"number\",\n        \"std\": 616.4128192211732,\n        \"min\": 16.042999999999996,\n        \"max\": 1715.7420000000002,\n        \"num_unique_values\": 11,\n        \"samples\": [\n          216.19799999999998,\n          18.015\n        ],\n        \"semantic_type\": \"\",\n        \"description\": \"\"\n      }\n    },\n    {\n      \"column\": \"elements\",\n      \"properties\": {\n        \"dtype\": \"object\",\n        \"semantic_type\": \"\",\n        \"description\": \"\"\n      }\n    },\n    {\n      \"column\": \"n_atoms\",\n      \"properties\": {\n        \"dtype\": \"number\",\n        \"std\": 20,\n        \"min\": 3,\n        \"max\": 54,\n        \"num_unique_values\": 8,\n        \"samples\": [\n          5,\n          18\n        ],\n        \"semantic_type\": \"\",\n        \"description\": \"\"\n      }\n    },\n    {\n      \"column\": \"formula\",\n      \"properties\": {\n        \"dtype\": \"string\",\n        \"num_unique_values\": 11,\n        \"samples\": [\n          \"C18\",\n          \"H2O\"\n        ],\n        \"semantic_type\": \"\",\n        \"description\": \"\"\n      }\n    },\n    {\n      \"column\": \"is_periodic\",\n      \"properties\": {\n        \"dtype\": \"boolean\",\n        \"num_unique_values\": 2,\n        \"samples\": [\n          true,\n          false\n        ],\n        \"semantic_type\": \"\",\n        \"description\": \"\"\n      }\n    },\n    {\n      \"column\": \"has_metals\",\n      \"properties\": {\n        \"dtype\": \"boolean\",\n        \"num_unique_values\": 2,\n        \"samples\": [\n          true,\n          false\n        ],\n        \"semantic_type\": \"\",\n        \"description\": \"\"\n      }\n    }\n  ]\n}"
            }
          },
          "metadata": {},
          "execution_count": 60
        }
      ]
    },
    {
      "cell_type": "code",
      "source": [],
      "metadata": {
        "id": "9KKP_34IU-M2"
      },
      "execution_count": null,
      "outputs": []
    },
    {
      "cell_type": "code",
      "source": [],
      "metadata": {
        "id": "LNZTzY8EU-O8"
      },
      "execution_count": null,
      "outputs": []
    },
    {
      "cell_type": "markdown",
      "source": [
        "<font color=skyblue size=5>Build a large scale dataset with load_atoms package</font>"
      ],
      "metadata": {
        "id": "pYHz-EVbncAM"
      }
    },
    {
      "cell_type": "code",
      "source": [
        "!uv pip install load-atoms -q"
      ],
      "metadata": {
        "id": "mkoe9_n0U-Q1"
      },
      "execution_count": null,
      "outputs": []
    },
    {
      "cell_type": "code",
      "source": [
        "from load_atoms import load_dataset\n",
        "\n",
        "# download dataset\n",
        "GST_GAP_22 = load_dataset('GST-GAP-22')._structures[:500]\n",
        "P_GAP_20 = load_dataset('P-GAP-20')._structures[:500]\n"
      ],
      "metadata": {
        "id": "FmbR4H32U-S5"
      },
      "execution_count": null,
      "outputs": []
    },
    {
      "cell_type": "code",
      "source": [
        "from randatoms.converter import ASEtoHDF5Converter\n",
        "import os\n",
        "\n",
        "# tmp dir\n",
        "tmp_dir = 'tmp_dataset'\n",
        "os.makedirs(tmp_dir, exist_ok=True)\n",
        "\n",
        "converter = ASEtoHDF5Converter(n_workers=2)\n",
        "\n",
        "converter.convert_atoms_list(\n",
        "    atoms_list=GST_GAP_22,\n",
        "    filename='tmp_GST_GAP_22',\n",
        "    data_dir = tmp_dir,\n",
        "    dataset_name='gst_gap'\n",
        ")\n",
        "\n",
        "converter.convert_atoms_list(\n",
        "    atoms_list=P_GAP_20,\n",
        "    filename='tmp_P_GAP_20',\n",
        "    data_dir = tmp_dir,\n",
        "    dataset_name='p_gap'\n",
        ")\n"
      ],
      "metadata": {
        "id": "XtdSb3UxWxVz",
        "colab": {
          "base_uri": "https://localhost:8080/"
        },
        "outputId": "41cf8bf5-fc50-4e55-f7e4-e4d31ae909f2"
      },
      "execution_count": null,
      "outputs": [
        {
          "output_type": "stream",
          "name": "stdout",
          "text": [
            "Converting 500 structures...\n",
            "Using 2 workers for metadata extraction...\n",
            "\n"
          ]
        },
        {
          "output_type": "stream",
          "name": "stderr",
          "text": [
            "Processing batches: 100%|██████████| 5/5 [00:00<00:00, 26.38it/s]\n",
            "Writing HDF5: 100%|██████████| 1/1 [00:00<00:00,  1.37it/s]\n"
          ]
        },
        {
          "output_type": "stream",
          "name": "stdout",
          "text": [
            "Saving metadata...\n",
            "Building element index...\n"
          ]
        },
        {
          "output_type": "stream",
          "name": "stderr",
          "text": [
            "Processing elements: 100%|██████████| 500/500 [00:00<00:00, 1069975.51it/s]"
          ]
        },
        {
          "output_type": "stream",
          "name": "stdout",
          "text": [
            "Creating TAR archive at tmp_dataset/tmp_GST_GAP_22.tar...\n",
            "\u001b[1;34m\n",
            "Conversion complete! File saved as tmp_GST_GAP_22.tar\u001b[0m\n",
            "Converting 500 structures...\n",
            "Using 2 workers for metadata extraction...\n",
            "\n"
          ]
        },
        {
          "output_type": "stream",
          "name": "stderr",
          "text": [
            "\n",
            "Processing batches: 100%|██████████| 5/5 [00:00<00:00, 24.25it/s]\n",
            "Writing HDF5: 100%|██████████| 1/1 [00:01<00:00,  1.02s/it]\n"
          ]
        },
        {
          "output_type": "stream",
          "name": "stdout",
          "text": [
            "Saving metadata...\n",
            "Building element index...\n"
          ]
        },
        {
          "output_type": "stream",
          "name": "stderr",
          "text": [
            "Processing elements: 100%|██████████| 500/500 [00:00<00:00, 446582.62it/s]"
          ]
        },
        {
          "output_type": "stream",
          "name": "stdout",
          "text": [
            "Creating TAR archive at tmp_dataset/tmp_P_GAP_20.tar...\n",
            "\u001b[1;34m\n",
            "Conversion complete! File saved as tmp_P_GAP_20.tar\u001b[0m\n"
          ]
        },
        {
          "output_type": "stream",
          "name": "stderr",
          "text": [
            "\n"
          ]
        }
      ]
    },
    {
      "cell_type": "code",
      "source": [
        "from randatoms import available_datasets\n",
        "\n",
        "available_datasets(data_dir=tmp_dir)"
      ],
      "metadata": {
        "id": "YtOFg0oMYZFE",
        "colab": {
          "base_uri": "https://localhost:8080/"
        },
        "outputId": "fff3b91a-bb5d-4a32-af8a-5055d1c0fbab"
      },
      "execution_count": null,
      "outputs": [
        {
          "output_type": "stream",
          "name": "stdout",
          "text": [
            "\u001b[1;34mAvailable Datasets\u001b[0m\n",
            "Dataset found : /content/tmp_dataset\n",
            "=========================================================================================\n",
            "   Dataset Name    |  Structures  |       MW Range       |    Atoms Range     | Size (MB) \n",
            "-----------------------------------------------------------------------------------------\n",
            "  tmp_GST_GAP_22   |     500      |    (72.6, 6890.4)    |      (1, 64)       |    5.03   \n",
            "   tmp_P_GAP_20    |     500      |    (61.9, 7681.5)    |      (2, 248)      |    8.51   \n",
            "=========================================================================================\n"
          ]
        }
      ]
    },
    {
      "cell_type": "code",
      "source": [
        "from randatoms.merger import DatasetMerger\n",
        "\n",
        "merger = DatasetMerger(\n",
        "    merge_name_list=['tmp_GST_GAP_22', 'tmp_P_GAP_20'],\n",
        "    output_name='custom_dataset',\n",
        "    data_dir=tmp_dir,\n",
        "    )\n",
        "\n",
        "# merge preview\n",
        "merger.merge_preview()\n",
        "\n",
        "# merge dataset\n",
        "merger.merge()"
      ],
      "metadata": {
        "id": "Lz4gUfdBY5Os",
        "colab": {
          "base_uri": "https://localhost:8080/"
        },
        "outputId": "868fd410-3f3f-41f2-e9c4-f92c292940ff"
      },
      "execution_count": null,
      "outputs": [
        {
          "output_type": "stream",
          "name": "stdout",
          "text": [
            "\n",
            "\u001b[1;34mMerged Dataset Preview\u001b[0m\n",
            "=======================================================\n",
            "Datasets to merge: ['tmp_GST_GAP_22', 'tmp_P_GAP_20']\n",
            "Total structures: 1,000\n",
            "Molecular weight range: (61.9, 7681.5)\n",
            "Num. of atoms range: (1, 248)\n",
            "=======================================================\n",
            "\n",
            "\u001b[1;34mCombined Elemental Composition\u001b[0m\n",
            "=======================================================\n",
            "P : 500 structures [=====     ] 50.0%\n",
            "Ge: 209 structures [==        ] 20.9%\n",
            "Sb: 206 structures [==        ] 20.6%\n",
            "Te: 190 structures [==        ] 19.0%\n",
            "=======================================================\n",
            "\n",
            "\u001b[1;32mDatasets to merge\u001b[0m\n",
            "=======================================================\n",
            "  Dataset: \u001b[1mtmp_GST_GAP_22\u001b[0m\n",
            "  - Structures: 500\n",
            "  - Molecular weight range: (72.6, 6890.4)\n",
            "  - Num. of atoms range: (1, 64)\n",
            "-------------------------------------------------------\n",
            "  Dataset: \u001b[1mtmp_P_GAP_20\u001b[0m\n",
            "  - Structures: 500\n",
            "  - Molecular weight range: (61.9, 7681.5)\n",
            "  - Num. of atoms range: (2, 248)\n",
            "=======================================================\n",
            "Counting structures...\n",
            "Merging 1000 structures from 2 datasets...\n"
          ]
        },
        {
          "output_type": "stream",
          "name": "stderr",
          "text": [
            "Merging structures: 100%|██████████| 1000/1000 [00:01<00:00, 743.83it/s]\n"
          ]
        },
        {
          "output_type": "stream",
          "name": "stdout",
          "text": [
            "Building merged element index...\n"
          ]
        },
        {
          "output_type": "stream",
          "name": "stderr",
          "text": [
            "Building index: 100%|██████████| 1000/1000 [00:00<00:00, 684449.09it/s]\n"
          ]
        },
        {
          "output_type": "stream",
          "name": "stdout",
          "text": [
            "Calculating merged statistics...\n",
            "Saving merged data to TAR archive...\n",
            "\u001b[1;34mMerge complete! Output saved as custom_dataset.tar\u001b[0m\n"
          ]
        }
      ]
    },
    {
      "cell_type": "code",
      "source": [
        "from randatoms import available_datasets\n",
        "\n",
        "available_datasets(tmp_dir)"
      ],
      "metadata": {
        "id": "7xpXwXyTcV0q",
        "colab": {
          "base_uri": "https://localhost:8080/"
        },
        "outputId": "2862debc-ec93-4fc7-fe49-50ace381600d"
      },
      "execution_count": null,
      "outputs": [
        {
          "output_type": "stream",
          "name": "stdout",
          "text": [
            "\u001b[1;34mAvailable Datasets\u001b[0m\n",
            "Dataset found : /content/tmp_dataset\n",
            "=========================================================================================\n",
            "   Dataset Name    |  Structures  |       MW Range       |    Atoms Range     | Size (MB) \n",
            "-----------------------------------------------------------------------------------------\n",
            "  custom_dataset   |    1,000     |    (61.9, 7681.5)    |      (1, 248)      |   13.12   \n",
            "  tmp_GST_GAP_22   |     500      |    (72.6, 6890.4)    |      (1, 64)       |    5.03   \n",
            "   tmp_P_GAP_20    |     500      |    (61.9, 7681.5)    |      (2, 248)      |    8.51   \n",
            "=========================================================================================\n"
          ]
        }
      ]
    },
    {
      "cell_type": "code",
      "source": [
        "from randatoms import set_default_dataset, add_dataset\n",
        "\n",
        "# move dataset into internal dataset directory\n",
        "add_dataset(f'{tmp_dir}//tmp_GST_GAP_22.tar')\n",
        "\n",
        "# move & rename dataset to default dataset\n",
        "# Sets the dataset at the specified path as the default dataset\n",
        "# set_default_dataset(f'{tmp_dir}/custom_dataset.tar')"
      ],
      "metadata": {
        "id": "SNpUIjXDbI-x",
        "colab": {
          "base_uri": "https://localhost:8080/"
        },
        "outputId": "a4f8d9f4-6c2b-4510-8533-a03393c42328"
      },
      "execution_count": null,
      "outputs": [
        {
          "output_type": "stream",
          "name": "stdout",
          "text": [
            "Successfully added dataset 'tmp_GST_GAP_22.tar'.\n",
            "Location: /usr/local/lib/python3.11/dist-packages/randatoms/dataset/tmp_GST_GAP_22.tar\n",
            "\u001b[1;34mAvailable Datasets\u001b[0m\n",
            "Dataset found : /usr/local/lib/python3.11/dist-packages/randatoms/dataset\n",
            "=========================================================================================\n",
            "   Dataset Name    |  Structures  |       MW Range       |    Atoms Range     | Size (MB) \n",
            "-----------------------------------------------------------------------------------------\n",
            "     default       |     878      |   (169.9, 6723.3)    |     (10, 616)      |    9.23   \n",
            "  tmp_GST_GAP_22   |     500      |    (72.6, 6890.4)    |      (1, 64)       |    5.03   \n",
            "=========================================================================================\n"
          ]
        }
      ]
    },
    {
      "cell_type": "code",
      "source": [
        "available_datasets()"
      ],
      "metadata": {
        "id": "GWg5fkkubXKl",
        "colab": {
          "base_uri": "https://localhost:8080/"
        },
        "outputId": "3d911e3e-596e-4204-d5b0-6fa74cc883f8"
      },
      "execution_count": null,
      "outputs": [
        {
          "output_type": "stream",
          "name": "stdout",
          "text": [
            "\u001b[1;34mAvailable Datasets\u001b[0m\n",
            "Dataset found : /usr/local/lib/python3.11/dist-packages/randatoms/dataset\n",
            "=========================================================================================\n",
            "   Dataset Name    |  Structures  |       MW Range       |    Atoms Range     | Size (MB) \n",
            "-----------------------------------------------------------------------------------------\n",
            "     default       |    1,000     |    (61.9, 7681.5)    |      (1, 248)      |   13.12   \n",
            "  tmp_GST_GAP_22   |     500      |    (72.6, 6890.4)    |      (1, 64)       |    5.03   \n",
            "=========================================================================================\n"
          ]
        }
      ]
    },
    {
      "cell_type": "code",
      "source": [
        "!rm -rf crystals.tar molecules.tar tmp_dataset merged_dataset.tar"
      ],
      "metadata": {
        "id": "Czhh6R2bfM0J"
      },
      "execution_count": null,
      "outputs": []
    },
    {
      "cell_type": "code",
      "source": [],
      "metadata": {
        "id": "o9QW67YQpWtY"
      },
      "execution_count": null,
      "outputs": []
    },
    {
      "cell_type": "code",
      "source": [
        "# internal default dataset build"
      ],
      "metadata": {
        "id": "PjBunF15pWvJ"
      },
      "execution_count": null,
      "outputs": []
    },
    {
      "cell_type": "code",
      "source": [
        "!uv pip install fairchem-core -q"
      ],
      "metadata": {
        "id": "m3jF6l6MFGjN"
      },
      "execution_count": null,
      "outputs": []
    },
    {
      "cell_type": "code",
      "source": [
        "# peptide conformer\n",
        "!mkdir -p peptide_tmp\n",
        "!wget http://cuby4.molecular.cz/download_geometries/peptide_conformers.tar -O peptide_conformers.tar -q\n",
        "!tar -xf peptide_conformers.tar -C ./peptide_tmp\n",
        "!rm -rf peptide_conformers.tar\n",
        "\n",
        "\n",
        "# omol25 subset\n",
        "!wget https://dl.fbaipublicfiles.com/opencatalystproject/data/omol/250514/neutral_val.tar.gz -O omol25sub.tar.gz -q\n",
        "!tar -xzf omol25sub.tar.gz\n",
        "!rm -rf omol25sub.tar.gz\n",
        "\n",
        "# omat24 subset\n",
        "!wget https://dl.fbaipublicfiles.com/opencatalystproject/data/omat/241220/omat/val/rattled-1000-subsampled.tar.gz -q\n",
        "!tar -xzf rattled-1000-subsampled.tar.gz\n",
        "!rm -rf rattled-1000-subsampled.tar.gz\n",
        "\n",
        "# odac subset (mof)\n",
        "!mkdir -p pristine_tmp\n",
        "!wget https://github.com/facebookresearch/fairchem/raw/refs/heads/main/src/fairchem/data/odac/promising_mof/promising_mof_structures/pristine.zip -O pristine.zip -q\n",
        "!unzip -q pristine.zip -d ./pristine_tmp\n",
        "!rm -rf pristine.zip\n",
        "\n",
        "# x23b (organic crystal)\n",
        "!mkdir -p X23b_tmp\n",
        "!wget https://figshare.com/ndownloader/files/43162153 -O X23b.zip -q\n",
        "!unzip -q X23b.zip -d ./X23b_tmp\n",
        "!rm -rf X23b.zip"
      ],
      "metadata": {
        "id": "5iOGpDkTSFlQ"
      },
      "execution_count": null,
      "outputs": []
    },
    {
      "cell_type": "code",
      "source": [
        "#@title tmp xyz reader\n",
        "import numpy as np\n",
        "from ase import Atoms\n",
        "\n",
        "def parse_extended_xyz(filename):\n",
        "    \"\"\"\n",
        "    Parse extended XYZ file and return ASE Atoms object\n",
        "\n",
        "    Args:\n",
        "        filename: Path to XYZ file\n",
        "\n",
        "    Returns:\n",
        "        ASE Atoms object\n",
        "    \"\"\"\n",
        "    with open(filename, 'r') as f:\n",
        "        lines = [line.strip() for line in f.readlines()]\n",
        "\n",
        "    # Number of atoms\n",
        "    natoms = int(lines[0])\n",
        "\n",
        "    # Parse atomic coordinates and cell vectors\n",
        "    symbols = []\n",
        "    positions = []\n",
        "    cell_vectors = []\n",
        "\n",
        "    for i in range(2, len(lines)):\n",
        "        line = lines[i]\n",
        "        if not line:\n",
        "            continue\n",
        "\n",
        "        parts = line.split()\n",
        "        if len(parts) < 4:\n",
        "            continue\n",
        "\n",
        "        if parts[0] == 'Tv':\n",
        "            # Cell vectors\n",
        "            cell_vectors.append([float(x) for x in parts[1:4]])\n",
        "        elif len(symbols) < natoms and parts[0] not in ['Tv']:\n",
        "            # Atomic coordinates (element symbol first)\n",
        "            try:\n",
        "                if parts[0][0].isupper() and not parts[0][0].isdigit():\n",
        "                    symbols.append(parts[0])\n",
        "                    positions.append([float(x) for x in parts[1:4]])\n",
        "            except (ValueError, IndexError):\n",
        "                continue\n",
        "\n",
        "    positions = np.array(positions)\n",
        "    cell_vectors = np.array(cell_vectors)\n",
        "\n",
        "    # Create default cell if no cell vectors found\n",
        "    if len(cell_vectors) != 3:\n",
        "        max_coord = np.max(np.abs(positions)) if len(positions) > 0 else 10\n",
        "        cell_vectors = np.eye(3) * (max_coord + 5)\n",
        "\n",
        "    # Create ASE Atoms object\n",
        "    atoms = Atoms(symbols=symbols, positions=positions, cell=cell_vectors, pbc=True)\n",
        "\n",
        "    return atoms"
      ],
      "metadata": {
        "cellView": "form",
        "id": "T7sUuvK7sajG"
      },
      "execution_count": null,
      "outputs": []
    },
    {
      "cell_type": "code",
      "source": [
        "import glob\n",
        "from ase.io import read\n",
        "from tqdm import tqdm\n",
        "\n",
        "# x23b\n",
        "X23b_files = glob.glob('X23b_tmp/*_cryst/cryst.xyz')\n",
        "x23_atoms = []\n",
        "for _path in tqdm(X23b_files):\n",
        "    atoms = parse_extended_xyz(_path)\n",
        "    atoms.center()\n",
        "    x23_atoms.append(atoms)\n",
        "\n",
        "# peptide\n",
        "peptide_files = glob.glob('peptide_tmp/*.xyz')\n",
        "peptide_atoms = []\n",
        "for xyz in tqdm(peptide_files):\n",
        "    atoms = read(xyz, format='xyz')\n",
        "    peptide_atoms.append(atoms)\n",
        "\n",
        "# odac (mof)\n",
        "odac_files = glob.glob('pristine_tmp/*.cif')\n",
        "odac_atoms = []\n",
        "for cif in tqdm(odac_files):\n",
        "    atoms = read(cif, format='cif')\n",
        "    odac_atoms.append(atoms)\n",
        "\n"
      ],
      "metadata": {
        "id": "gLlype1Esf5R"
      },
      "execution_count": null,
      "outputs": []
    },
    {
      "cell_type": "code",
      "source": [
        "from fairchem.core.datasets import AseDBDataset\n",
        "\n",
        "# omol25\n",
        "dataset_path = \"neutral_val\"\n",
        "dataset = AseDBDataset({\"src\": dataset_path})\n",
        "geom_orca6_atoms = []\n",
        "omol_idx = 1\n",
        "for idx in tqdm(range(len(dataset[:2671]))):\n",
        "    atoms = dataset.get_atoms(idx)\n",
        "    if omol_idx == 500: break\n",
        "    if atoms.info['data_id'] == 'geom_orca6':\n",
        "        atoms.center()\n",
        "        geom_orca6_atoms.append(atoms)\n",
        "        omol_idx += 1\n",
        "geom_orca6_atoms = geom_orca6_atoms[:300]\n",
        "\n",
        "# omat24\n",
        "dataset_path = \"rattled-1000-subsampled\"\n",
        "dataset = AseDBDataset({\"src\": dataset_path})\n",
        "rattled_atoms = []\n",
        "for idx in tqdm(range(len(dataset[:300]))):\n",
        "    atoms = dataset.get_atoms(idx)\n",
        "    atoms.center()\n",
        "    rattled_atoms.append(atoms)"
      ],
      "metadata": {
        "id": "d0Mq1BN4s_8E"
      },
      "execution_count": null,
      "outputs": []
    },
    {
      "cell_type": "code",
      "source": [
        "len(peptide_atoms), len(geom_orca6_atoms), len(rattled_atoms), len(odac_atoms), len(x23_atoms)"
      ],
      "metadata": {
        "colab": {
          "base_uri": "https://localhost:8080/"
        },
        "id": "oKgs99oRuBIL",
        "outputId": "2b92b265-d36c-48e0-adf5-7642b29e0bde"
      },
      "execution_count": null,
      "outputs": [
        {
          "output_type": "execute_result",
          "data": {
            "text/plain": [
              "(76, 300, 300, 135, 67)"
            ]
          },
          "metadata": {},
          "execution_count": 123
        }
      ]
    },
    {
      "cell_type": "code",
      "source": [],
      "metadata": {
        "id": "5eXLMbSZuw1l"
      },
      "execution_count": null,
      "outputs": []
    },
    {
      "cell_type": "code",
      "source": [
        "from randatoms.converter import ASEtoHDF5Converter\n",
        "import os\n",
        "\n",
        "tmp_dir = 'default_dataset'\n",
        "os.makedirs(tmp_dir, exist_ok=True)\n",
        "converter = ASEtoHDF5Converter(n_workers=2)\n",
        "\n",
        "converter.convert_atoms_list(\n",
        "    atoms_list=odac_atoms,\n",
        "    filename='odac',\n",
        "    data_dir=tmp_dir,\n",
        "    dataset_name='odac'\n",
        ")\n",
        "\n",
        "converter.convert_atoms_list(\n",
        "    atoms_list=rattled_atoms,\n",
        "    filename='rattled',\n",
        "    data_dir=tmp_dir,\n",
        "    dataset_name='rattled'\n",
        ")\n",
        "\n",
        "converter.convert_atoms_list(\n",
        "    atoms_list=geom_orca6_atoms,\n",
        "    filename='omol25',\n",
        "    data_dir=tmp_dir,\n",
        "    dataset_name='omol25'\n",
        ")\n",
        "\n",
        "converter.convert_atoms_list(\n",
        "    atoms_list=peptide_atoms,\n",
        "    filename='peptide',\n",
        "    data_dir=tmp_dir,\n",
        "    dataset_name='peptide'\n",
        ")\n",
        "\n",
        "converter.convert_atoms_list(\n",
        "    atoms_list=x23_atoms,\n",
        "    filename='x23b',\n",
        "    data_dir=tmp_dir,\n",
        "    dataset_name='x23b'\n",
        ")"
      ],
      "metadata": {
        "colab": {
          "base_uri": "https://localhost:8080/"
        },
        "outputId": "c32a5bf5-c7ce-4a5b-d9d3-094705df4544",
        "id": "v5m0Fus40ptq"
      },
      "execution_count": null,
      "outputs": [
        {
          "output_type": "stream",
          "name": "stdout",
          "text": [
            "Converting 135 structures...\n",
            "Using 2 workers for metadata extraction...\n",
            "\n"
          ]
        },
        {
          "output_type": "stream",
          "name": "stderr",
          "text": [
            "Processing batches: 100%|██████████| 2/2 [00:00<00:00, 13.86it/s]\n",
            "Writing HDF5: 100%|██████████| 1/1 [00:00<00:00,  2.58it/s]\n"
          ]
        },
        {
          "output_type": "stream",
          "name": "stdout",
          "text": [
            "Saving metadata...\n",
            "Building element index...\n"
          ]
        },
        {
          "output_type": "stream",
          "name": "stderr",
          "text": [
            "Processing elements: 100%|██████████| 135/135 [00:00<00:00, 127386.06it/s]"
          ]
        },
        {
          "output_type": "stream",
          "name": "stdout",
          "text": [
            "Creating TAR archive at default_dataset/odac.tar...\n",
            "\u001b[1;34m\n",
            "Conversion complete! File saved as odac.tar\u001b[0m\n",
            "Converting 300 structures...\n",
            "Using 2 workers for metadata extraction...\n",
            "\n"
          ]
        },
        {
          "output_type": "stream",
          "name": "stderr",
          "text": [
            "\n",
            "Processing batches: 100%|██████████| 3/3 [00:00<00:00, 15.68it/s]\n",
            "Writing HDF5: 100%|██████████| 1/1 [00:00<00:00,  1.26it/s]\n"
          ]
        },
        {
          "output_type": "stream",
          "name": "stdout",
          "text": [
            "Saving metadata...\n",
            "Building element index...\n"
          ]
        },
        {
          "output_type": "stream",
          "name": "stderr",
          "text": [
            "Processing elements: 100%|██████████| 300/300 [00:00<00:00, 274496.34it/s]"
          ]
        },
        {
          "output_type": "stream",
          "name": "stdout",
          "text": [
            "Creating TAR archive at default_dataset/rattled.tar...\n",
            "\u001b[1;34m\n",
            "Conversion complete! File saved as rattled.tar\u001b[0m\n",
            "Converting 300 structures...\n",
            "Using 2 workers for metadata extraction...\n",
            "\n"
          ]
        },
        {
          "output_type": "stream",
          "name": "stderr",
          "text": [
            "\n",
            "Processing batches: 100%|██████████| 3/3 [00:00<00:00, 10.84it/s]\n",
            "Writing HDF5: 100%|██████████| 1/1 [00:00<00:00,  1.30it/s]\n"
          ]
        },
        {
          "output_type": "stream",
          "name": "stdout",
          "text": [
            "Saving metadata...\n",
            "Building element index...\n"
          ]
        },
        {
          "output_type": "stream",
          "name": "stderr",
          "text": [
            "Processing elements: 100%|██████████| 300/300 [00:00<00:00, 133704.30it/s]\n"
          ]
        },
        {
          "output_type": "stream",
          "name": "stdout",
          "text": [
            "Creating TAR archive at default_dataset/omol25.tar...\n",
            "\u001b[1;34m\n",
            "Conversion complete! File saved as omol25.tar\u001b[0m\n",
            "Converting 76 structures...\n"
          ]
        },
        {
          "output_type": "stream",
          "name": "stderr",
          "text": [
            "Extracting metadata: 100%|██████████| 76/76 [00:00<00:00, 2337.38it/s]\n",
            "Writing HDF5: 100%|██████████| 1/1 [00:01<00:00,  1.33s/it]\n"
          ]
        },
        {
          "output_type": "stream",
          "name": "stdout",
          "text": [
            "Saving metadata...\n",
            "Building element index...\n"
          ]
        },
        {
          "output_type": "stream",
          "name": "stderr",
          "text": [
            "Processing elements: 100%|██████████| 76/76 [00:00<00:00, 132049.34it/s]\n"
          ]
        },
        {
          "output_type": "stream",
          "name": "stdout",
          "text": [
            "Creating TAR archive at default_dataset/peptide.tar...\n",
            "\u001b[1;34m\n",
            "Conversion complete! File saved as peptide.tar\u001b[0m\n",
            "Converting 67 structures...\n"
          ]
        },
        {
          "output_type": "stream",
          "name": "stderr",
          "text": [
            "Extracting metadata: 100%|██████████| 67/67 [00:00<00:00, 1279.57it/s]\n",
            "Writing HDF5: 100%|██████████| 1/1 [00:00<00:00,  2.00it/s]\n"
          ]
        },
        {
          "output_type": "stream",
          "name": "stdout",
          "text": [
            "Saving metadata...\n",
            "Building element index...\n"
          ]
        },
        {
          "output_type": "stream",
          "name": "stderr",
          "text": [
            "Processing elements: 100%|██████████| 67/67 [00:00<00:00, 201446.86it/s]"
          ]
        },
        {
          "output_type": "stream",
          "name": "stdout",
          "text": [
            "Creating TAR archive at default_dataset/x23b.tar...\n",
            "\u001b[1;34m\n",
            "Conversion complete! File saved as x23b.tar\u001b[0m\n"
          ]
        },
        {
          "output_type": "stream",
          "name": "stderr",
          "text": [
            "\n"
          ]
        }
      ]
    },
    {
      "cell_type": "code",
      "source": [
        "from randatoms import available_datasets\n",
        "\n",
        "available_datasets(tmp_dir)"
      ],
      "metadata": {
        "colab": {
          "base_uri": "https://localhost:8080/"
        },
        "id": "dvQdbTkfizJi",
        "outputId": "e6277965-6652-4b71-af45-af58355b7355"
      },
      "execution_count": null,
      "outputs": [
        {
          "output_type": "stream",
          "name": "stdout",
          "text": [
            "\u001b[1;34mAvailable Datasets\u001b[0m\n",
            "Dataset found : /content/default_dataset\n",
            "=========================================================================================\n",
            "   Dataset Name    |  Structures  |       MW Range       |    Atoms Range     | Size (MB) \n",
            "-----------------------------------------------------------------------------------------\n",
            "       odac        |     135      |   (298.7, 6723.3)    |     (20, 616)      |    2.59   \n",
            "      omol25       |     300      |    (182.1, 618.4)    |      (15, 85)      |    2.43   \n",
            "     peptide       |      76      |    (261.3, 318.3)    |      (34, 41)      |    0.62   \n",
            "     rattled       |     300      |   (169.9, 4540.2)    |      (10, 80)      |    3.01   \n",
            "       x23b        |      67      |   (216.2, 2882.6)    |     (24, 240)      |    0.89   \n",
            "=========================================================================================\n"
          ]
        }
      ]
    },
    {
      "cell_type": "code",
      "source": [
        "from randatoms.merger import DatasetMerger\n",
        "\n",
        "merger = DatasetMerger(\n",
        "    merge_name_list=['odac', 'rattled', 'omol25', 'peptide', 'x23b'],\n",
        "    output_name='default_dataset',\n",
        "    data_dir=tmp_dir,\n",
        "    )\n",
        "\n",
        "merger.merge_preview()\n",
        "\n",
        "merger.merge()"
      ],
      "metadata": {
        "colab": {
          "base_uri": "https://localhost:8080/"
        },
        "id": "2H3PkNrgvhjU",
        "outputId": "d8ec0468-464e-4602-9302-698dd0ae6ad3"
      },
      "execution_count": null,
      "outputs": [
        {
          "output_type": "stream",
          "name": "stdout",
          "text": [
            "\n",
            "\u001b[1;34mMerged Dataset Preview\u001b[0m\n",
            "=======================================================\n",
            "Datasets to merge: ['odac', 'rattled', 'omol25', 'peptide', 'x23b']\n",
            "Total structures: 878\n",
            "Molecular weight range: (169.9, 6723.3)\n",
            "Num. of atoms range: (10, 616)\n",
            "=======================================================\n",
            "\n",
            "\u001b[1;34mCombined Elemental Composition\u001b[0m\n",
            "=======================================================\n",
            "C : 581 structures [=======   ] 66.2%\n",
            "H : 577 structures [=======   ] 65.7%\n",
            "O : 484 structures [======    ] 55.1%\n",
            "N : 483 structures [======    ] 55.0%\n",
            "S : 199 structures [==        ] 22.7%\n",
            "F : 161 structures [==        ] 18.3%\n",
            "Cl: 121 structures [=         ] 13.8%\n",
            "Br:  71 structures [=         ]  8.1%\n",
            "Cu:  66 structures [=         ]  7.5%\n",
            "Zn:  41 structures [          ]  4.7%\n",
            "Cd:  29 structures [          ]  3.3%\n",
            "Co:  28 structures [          ]  3.2%\n",
            "P :  28 structures [          ]  3.2%\n",
            "Al:  26 structures [          ]  3.0%\n",
            "Ag:  25 structures [          ]  2.8%\n",
            "Y :  25 structures [          ]  2.8%\n",
            "Si:  22 structures [          ]  2.5%\n",
            "Li:  22 structures [          ]  2.5%\n",
            "Ga:  22 structures [          ]  2.5%\n",
            "Pt:  20 structures [          ]  2.3%\n",
            "Tc:  19 structures [          ]  2.2%\n",
            "La:  18 structures [          ]  2.1%\n",
            "Mg:  18 structures [          ]  2.1%\n",
            "Sr:  18 structures [          ]  2.1%\n",
            "Tl:  17 structures [          ]  1.9%\n",
            "Ni:  16 structures [          ]  1.8%\n",
            "Fe:  16 structures [          ]  1.8%\n",
            "Pb:  16 structures [          ]  1.8%\n",
            "Au:  16 structures [          ]  1.8%\n",
            "K :  15 structures [          ]  1.7%\n",
            "Sb:  15 structures [          ]  1.7%\n",
            "Zr:  14 structures [          ]  1.6%\n",
            "Mo:  14 structures [          ]  1.6%\n",
            "Ru:  14 structures [          ]  1.6%\n",
            "Ir:  14 structures [          ]  1.6%\n",
            "I :  14 structures [          ]  1.6%\n",
            "Pm:  14 structures [          ]  1.6%\n",
            "Ca:  13 structures [          ]  1.5%\n",
            "Sc:  13 structures [          ]  1.5%\n",
            "Pd:  13 structures [          ]  1.5%\n",
            "In:  13 structures [          ]  1.5%\n",
            "Os:  12 structures [          ]  1.4%\n",
            "Ge:  12 structures [          ]  1.4%\n",
            "Hg:  12 structures [          ]  1.4%\n",
            "Cr:  12 structures [          ]  1.4%\n",
            "Te:  12 structures [          ]  1.4%\n",
            "Th:  12 structures [          ]  1.4%\n",
            "V :  11 structures [          ]  1.3%\n",
            "Dy:  11 structures [          ]  1.3%\n",
            "Rh:  11 structures [          ]  1.3%\n",
            "Er:  11 structures [          ]  1.3%\n",
            "Cs:  11 structures [          ]  1.3%\n",
            "Se:  11 structures [          ]  1.3%\n",
            "As:  11 structures [          ]  1.3%\n",
            "Ac:  11 structures [          ]  1.3%\n",
            "Ti:  10 structures [          ]  1.1%\n",
            "Nb:  10 structures [          ]  1.1%\n",
            "Na:   9 structures [          ]  1.0%\n",
            "Mn:   9 structures [          ]  1.0%\n",
            "Nd:   9 structures [          ]  1.0%\n",
            "Tb:   9 structures [          ]  1.0%\n",
            "Rb:   9 structures [          ]  1.0%\n",
            "U :   8 structures [          ]  0.9%\n",
            "W :   8 structures [          ]  0.9%\n",
            "Hf:   8 structures [          ]  0.9%\n",
            "Sn:   8 structures [          ]  0.9%\n",
            "Ba:   8 structures [          ]  0.9%\n",
            "Re:   7 structures [          ]  0.8%\n",
            "Be:   7 structures [          ]  0.8%\n",
            "Bi:   7 structures [          ]  0.8%\n",
            "Pr:   7 structures [          ]  0.8%\n",
            "Pu:   7 structures [          ]  0.8%\n",
            "Ho:   6 structures [          ]  0.7%\n",
            "Sm:   6 structures [          ]  0.7%\n",
            "Ta:   6 structures [          ]  0.7%\n",
            "B :   5 structures [          ]  0.6%\n",
            "Tm:   5 structures [          ]  0.6%\n",
            "Ce:   5 structures [          ]  0.6%\n",
            "Pa:   4 structures [          ]  0.5%\n",
            "Np:   3 structures [          ]  0.3%\n",
            "Eu:   1 structures [          ]  0.1%\n",
            "Yb:   1 structures [          ]  0.1%\n",
            "=======================================================\n",
            "\n",
            "\u001b[1;32mDatasets to merge\u001b[0m\n",
            "=======================================================\n",
            "  Dataset: \u001b[1modac\u001b[0m\n",
            "  - Structures: 135\n",
            "  - Molecular weight range: (298.7, 6723.3)\n",
            "  - Num. of atoms range: (20, 616)\n",
            "-------------------------------------------------------\n",
            "  Dataset: \u001b[1mrattled\u001b[0m\n",
            "  - Structures: 300\n",
            "  - Molecular weight range: (169.9, 4540.2)\n",
            "  - Num. of atoms range: (10, 80)\n",
            "-------------------------------------------------------\n",
            "  Dataset: \u001b[1momol25\u001b[0m\n",
            "  - Structures: 300\n",
            "  - Molecular weight range: (182.1, 618.4)\n",
            "  - Num. of atoms range: (15, 85)\n",
            "-------------------------------------------------------\n",
            "  Dataset: \u001b[1mpeptide\u001b[0m\n",
            "  - Structures: 76\n",
            "  - Molecular weight range: (261.3, 318.3)\n",
            "  - Num. of atoms range: (34, 41)\n",
            "-------------------------------------------------------\n",
            "  Dataset: \u001b[1mx23b\u001b[0m\n",
            "  - Structures: 67\n",
            "  - Molecular weight range: (216.2, 2882.6)\n",
            "  - Num. of atoms range: (24, 240)\n",
            "=======================================================\n",
            "Counting structures...\n",
            "Merging 878 structures from 5 datasets...\n"
          ]
        },
        {
          "output_type": "stream",
          "name": "stderr",
          "text": [
            "Merging structures: 100%|██████████| 878/878 [00:01<00:00, 626.13it/s]\n"
          ]
        },
        {
          "output_type": "stream",
          "name": "stdout",
          "text": [
            "Building merged element index...\n"
          ]
        },
        {
          "output_type": "stream",
          "name": "stderr",
          "text": [
            "Building index: 100%|██████████| 878/878 [00:00<00:00, 402557.82it/s]\n"
          ]
        },
        {
          "output_type": "stream",
          "name": "stdout",
          "text": [
            "Calculating merged statistics...\n",
            "Saving merged data to TAR archive...\n",
            "\u001b[1;34mMerge complete! Output saved as default_dataset.tar\u001b[0m\n"
          ]
        }
      ]
    },
    {
      "cell_type": "code",
      "source": [
        "from randatoms import set_default_dataset\n",
        "\n",
        "set_default_dataset(f'{tmp_dir}/default_dataset.tar')"
      ],
      "metadata": {
        "colab": {
          "base_uri": "https://localhost:8080/"
        },
        "id": "OeP2sCnRvmUx",
        "outputId": "144b8247-c6a3-452d-d3c0-8936dc731bb7"
      },
      "execution_count": null,
      "outputs": [
        {
          "output_type": "stream",
          "name": "stdout",
          "text": [
            "Successfully moved and set 'default_dataset.tar' as the default dataset.\n",
            "Location: /usr/local/lib/python3.11/dist-packages/randatoms/dataset/default.tar\n",
            "\u001b[1;34mAvailable Datasets\u001b[0m\n",
            "Dataset found : /usr/local/lib/python3.11/dist-packages/randatoms/dataset\n",
            "=========================================================================================\n",
            "   Dataset Name    |  Structures  |       MW Range       |    Atoms Range     | Size (MB) \n",
            "-----------------------------------------------------------------------------------------\n",
            "     default       |     878      |   (169.9, 6723.3)    |     (10, 616)      |    9.23   \n",
            "  tmp_GST_GAP_22   |     500      |    (72.6, 6890.4)    |      (1, 64)       |    5.03   \n",
            "=========================================================================================\n"
          ]
        }
      ]
    }
  ]
}